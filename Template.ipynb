{
 "cells": [
  {
   "cell_type": "markdown",
   "id": "dated-singles",
   "metadata": {
    "slideshow": {
     "slide_type": "slide"
    }
   },
   "source": [
    "# Title\n",
    "## Subtitle\n",
    "\n",
    "Author name"
   ]
  },
  {
   "cell_type": "markdown",
   "id": "greater-seating",
   "metadata": {
    "slideshow": {
     "slide_type": "slide"
    }
   },
   "source": [
    "# First slide\n",
    "\n",
    "Content of the first slide"
   ]
  },
  {
   "cell_type": "code",
   "execution_count": 1,
   "id": "gorgeous-force",
   "metadata": {
    "slideshow": {
     "slide_type": "skip"
    }
   },
   "outputs": [],
   "source": [
    "import numpy as np"
   ]
  },
  {
   "cell_type": "code",
   "execution_count": 2,
   "id": "piano-field",
   "metadata": {
    "slideshow": {
     "slide_type": "subslide"
    }
   },
   "outputs": [
    {
     "data": {
      "text/plain": [
       "array([6, 2, 3, 5, 5, 3, 2, 4, 4, 4, 4, 3, 1, 1, 1])"
      ]
     },
     "execution_count": 2,
     "metadata": {},
     "output_type": "execute_result"
    }
   ],
   "source": [
    "np.random.randint(low=1, high=7, size=15)"
   ]
  },
  {
   "cell_type": "markdown",
   "id": "tracked-peripheral",
   "metadata": {
    "slideshow": {
     "slide_type": "slide"
    }
   },
   "source": [
    "# Second slide\n",
    "\n",
    "Example of ipyleaflet showing maps"
   ]
  },
  {
   "cell_type": "code",
   "execution_count": 3,
   "id": "going-phenomenon",
   "metadata": {
    "slideshow": {
     "slide_type": "skip"
    }
   },
   "outputs": [],
   "source": [
    "from ipyleaflet import Map, Marker"
   ]
  },
  {
   "cell_type": "code",
   "execution_count": 4,
   "id": "thick-agenda",
   "metadata": {
    "slideshow": {
     "slide_type": "subslide"
    }
   },
   "outputs": [
    {
     "data": {
      "application/vnd.jupyter.widget-view+json": {
       "model_id": "d576608478a14afa983133715ab3b40b",
       "version_major": 2,
       "version_minor": 0
      },
      "text/plain": [
       "Map(center=[52.204793, 360.121558], controls=(ZoomControl(options=['position', 'zoom_in_text', 'zoom_in_title'…"
      ]
     },
     "metadata": {},
     "output_type": "display_data"
    }
   ],
   "source": [
    "center = (52.204793, 360.121558)\n",
    "m = Map(center=center, zoom=15)\n",
    "marker = Marker(location=center, draggable=True)\n",
    "m.add_layer(marker);\n",
    "display(m)"
   ]
  },
  {
   "cell_type": "markdown",
   "id": "literary-maryland",
   "metadata": {
    "slideshow": {
     "slide_type": "subslide"
    }
   },
   "source": [
    "## Example of heatmap on top of map"
   ]
  },
  {
   "cell_type": "code",
   "execution_count": 5,
   "id": "cathedral-header",
   "metadata": {
    "slideshow": {
     "slide_type": "subslide"
    }
   },
   "outputs": [
    {
     "data": {
      "application/vnd.jupyter.widget-view+json": {
       "model_id": "ed2fae39e6d84a1cbe2620a123d454cc",
       "version_major": 2,
       "version_minor": 0
      },
      "text/plain": [
       "Map(center=[0, 0], controls=(ZoomControl(options=['position', 'zoom_in_text', 'zoom_in_title', 'zoom_out_text'…"
      ]
     },
     "metadata": {},
     "output_type": "display_data"
    }
   ],
   "source": [
    "from ipyleaflet import Map, Heatmap\n",
    "from random import uniform\n",
    "m = Map(center=(0, 0), zoom=2)\n",
    "\n",
    "heatmap = Heatmap(\n",
    "    locations=[[uniform(-80, 80), uniform(-180, 180), uniform(0, 1000)] for i in range(2000)],\n",
    "    radius=20,\n",
    "    gradient={0.4: 'blue', 0.6: 'cyan', 0.7: 'lime', 0.8: 'yellow', 1.0: 'red'}\n",
    ")\n",
    "\n",
    "m.add_layer(heatmap);\n",
    "display(m)"
   ]
  },
  {
   "cell_type": "markdown",
   "id": "senior-conversation",
   "metadata": {
    "slideshow": {
     "slide_type": "slide"
    }
   },
   "source": [
    "# Opendata Bristol\n",
    "\n",
    "Example of OpenData Bristol on top of Bristol's map"
   ]
  },
  {
   "cell_type": "code",
   "execution_count": 6,
   "id": "grave-cricket",
   "metadata": {
    "scrolled": false,
    "slideshow": {
     "slide_type": "subslide"
    }
   },
   "outputs": [
    {
     "name": "stdout",
     "output_type": "stream",
     "text": [
      "Json root keys\n",
      "dict_keys(['nhits', 'parameters', 'records', 'facet_groups'])\n",
      "3 records\n"
     ]
    },
    {
     "data": {
      "text/plain": [
       "[{'datasetid': 'air-quality-data-continuous',\n",
       "  'recordid': 'ab1ad5fd789cfc7afef424f411c2e206a7bcb433',\n",
       "  'fields': {'datestart': '2002-02-01T00:00:00+00:00',\n",
       "   'temp': 9.924299,\n",
       "   'date_time': '2021-02-15T17:00:00+00:00',\n",
       "   'no': 24.25415,\n",
       "   'geo_point_2d': [51.432675707, -2.60495665673],\n",
       "   'current': 'True',\n",
       "   'nox': 87.210001,\n",
       "   'location': 'Parson Street School',\n",
       "   'siteid': 215,\n",
       "   'no2': 50.059687,\n",
       "   'rh': 24.55922,\n",
       "   'instrumenttype': 'Continuous (Reference)',\n",
       "   'pm25': 7.2222231},\n",
       "  'geometry': {'type': 'Point', 'coordinates': [-2.60495665673, 51.432675707]},\n",
       "  'record_timestamp': '2021-02-15T17:15:11.183000+00:00'},\n",
       " {'datasetid': 'air-quality-data-continuous',\n",
       "  'recordid': '8382f7cf019c6cec0950f5c729a0d4f46fc1e48f',\n",
       "  'fields': {'datestart': '2003-05-23T00:00:00+00:00',\n",
       "   'date_time': '2021-02-15T17:00:00+00:00',\n",
       "   'no': 55.4915,\n",
       "   'geo_point_2d': [51.4278638883, -2.56374153315],\n",
       "   'current': 'True',\n",
       "   'nox': 127.850628,\n",
       "   'location': 'Wells Road',\n",
       "   'siteid': 270,\n",
       "   'instrumenttype': 'Continuous (Reference)',\n",
       "   'no2': 42.744375},\n",
       "  'geometry': {'type': 'Point',\n",
       "   'coordinates': [-2.56374153315, 51.4278638883]},\n",
       "  'record_timestamp': '2021-02-15T17:15:11.183000+00:00'},\n",
       " {'datasetid': 'air-quality-data-continuous',\n",
       "  'recordid': 'c6a2c0f17d1b41664211d8e1c3e81235433f625a',\n",
       "  'fields': {'datestart': '2009-03-13T00:00:00+00:00',\n",
       "   'date_time': '2021-02-15T17:00:00+00:00',\n",
       "   'no': 24.8153,\n",
       "   'geo_point_2d': [51.4780449714, -2.53523027459],\n",
       "   'current': 'True',\n",
       "   'nox': 86.014686,\n",
       "   'location': 'Fishponds Road',\n",
       "   'siteid': 463,\n",
       "   'instrumenttype': 'Continuous (Reference)',\n",
       "   'no2': 48.00375},\n",
       "  'geometry': {'type': 'Point',\n",
       "   'coordinates': [-2.53523027459, 51.4780449714]},\n",
       "  'record_timestamp': '2021-02-15T17:15:11.183000+00:00'}]"
      ]
     },
     "execution_count": 6,
     "metadata": {},
     "output_type": "execute_result"
    }
   ],
   "source": [
    "air_quality_bristol_query = 'https://opendata.bristol.gov.uk/api/records/1.0/search/?dataset=air-quality-data-continuous&q=&rows=1000&sort=date_time&facet=date_time&facet=coordinates&facet=temp'\n",
    "\n",
    "import urllib, json\n",
    "\n",
    "response = urllib.request.urlopen(air_quality_bristol_query)\n",
    "\n",
    "data = json.loads(response.read())\n",
    "\n",
    "print('Json root keys')\n",
    "print(data.keys())\n",
    "print('3 records')\n",
    "data['records'][:3]"
   ]
  },
  {
   "cell_type": "code",
   "execution_count": 7,
   "id": "israeli-confidence",
   "metadata": {
    "slideshow": {
     "slide_type": "skip"
    }
   },
   "outputs": [
    {
     "data": {
      "text/plain": [
       "[['2021-02-15T17:00:00+00:00',\n",
       "  [51.432675707, -2.60495665673],\n",
       "  9.924299,\n",
       "  24.25415,\n",
       "  50.059687,\n",
       "  87.210001],\n",
       " ['2021-02-15T17:00:00+00:00',\n",
       "  [51.432675707, -2.60495665673],\n",
       "  9.924299,\n",
       "  24.25415,\n",
       "  50.059687,\n",
       "  87.210001],\n",
       " ['2021-02-15T17:00:00+00:00',\n",
       "  [51.432675707, -2.60495665673],\n",
       "  9.924299,\n",
       "  24.25415,\n",
       "  50.059687,\n",
       "  87.210001],\n",
       " ['2021-02-15T17:00:00+00:00',\n",
       "  [51.432675707, -2.60495665673],\n",
       "  9.924299,\n",
       "  24.25415,\n",
       "  50.059687,\n",
       "  87.210001],\n",
       " ['2021-02-15T17:00:00+00:00',\n",
       "  [51.432675707, -2.60495665673],\n",
       "  9.924299,\n",
       "  24.25415,\n",
       "  50.059687,\n",
       "  87.210001]]"
      ]
     },
     "execution_count": 7,
     "metadata": {},
     "output_type": "execute_result"
    }
   ],
   "source": [
    "def get_records(data, fields=None):\n",
    "    '''\n",
    "    data: json object\n",
    "    fields: list of strings\n",
    "        Each dictionary entry with the field name is retrieved in the given order\n",
    "    return\n",
    "    list of list of values\n",
    "    '''\n",
    "    for record in data['records']:\n",
    "        record_fields = record['fields']\n",
    "        if fields is None:\n",
    "            yield record_fields\n",
    "        else:\n",
    "            for key in fields:\n",
    "                yield [record_fields.get(key, np.nan) for key in fields]\n",
    "\n",
    "fields = ['date_time', 'geo_point_2d', 'temp', 'no', 'no2', 'nox']\n",
    "                \n",
    "record_values = list(get_records(data, fields=fields))\n",
    "\n",
    "record_values[:5]"
   ]
  },
  {
   "cell_type": "code",
   "execution_count": 8,
   "id": "improving-martin",
   "metadata": {
    "scrolled": false,
    "slideshow": {
     "slide_type": "subslide"
    }
   },
   "outputs": [
    {
     "data": {
      "application/vnd.jupyter.widget-view+json": {
       "model_id": "9956295682c04e20aa40096139d5c1ae",
       "version_major": 2,
       "version_minor": 0
      },
      "text/plain": [
       "Map(center=[51.4545, -2.5879], controls=(ZoomControl(options=['position', 'zoom_in_text', 'zoom_in_title', 'zo…"
      ]
     },
     "metadata": {},
     "output_type": "display_data"
    }
   ],
   "source": [
    "m = Map(center=(51.454500, -2.587900), zoom=12)\n",
    "gradient={0.4: 'blue', 0.6: 'cyan', 0.7: 'lime', 0.8: 'yellow', 1.0: 'red'}\n",
    "\n",
    "position_id = []\n",
    "\n",
    "field_map = {field: i for i, field in enumerate(fields)}\n",
    "heatmap = Heatmap(\n",
    "    locations=[[values[field_map['geo_point_2d']][0],\n",
    "                values[field_map['geo_point_2d']][1],\n",
    "                values[field_map['no']]] for values in record_values],\n",
    "    radius=20,\n",
    "    gradient=gradient\n",
    ")\n",
    "\n",
    "m.add_layer(heatmap);\n",
    "display(m)"
   ]
  },
  {
   "cell_type": "markdown",
   "id": "selective-youth",
   "metadata": {
    "slideshow": {
     "slide_type": "slide"
    }
   },
   "source": [
    "# Pandas dataframe\n",
    "\n",
    "We will use pandas to analyse the data"
   ]
  },
  {
   "cell_type": "code",
   "execution_count": 9,
   "id": "sharp-easter",
   "metadata": {
    "slideshow": {
     "slide_type": "subslide"
    }
   },
   "outputs": [
    {
     "data": {
      "text/html": [
       "<div>\n",
       "<style scoped>\n",
       "    .dataframe tbody tr th:only-of-type {\n",
       "        vertical-align: middle;\n",
       "    }\n",
       "\n",
       "    .dataframe tbody tr th {\n",
       "        vertical-align: top;\n",
       "    }\n",
       "\n",
       "    .dataframe thead th {\n",
       "        text-align: right;\n",
       "    }\n",
       "</style>\n",
       "<table border=\"1\" class=\"dataframe\">\n",
       "  <thead>\n",
       "    <tr style=\"text-align: right;\">\n",
       "      <th></th>\n",
       "      <th>date_time</th>\n",
       "      <th>geo_point_2d</th>\n",
       "      <th>temp</th>\n",
       "      <th>no</th>\n",
       "      <th>no2</th>\n",
       "      <th>nox</th>\n",
       "      <th>Longitude</th>\n",
       "      <th>Latitude</th>\n",
       "    </tr>\n",
       "  </thead>\n",
       "  <tbody>\n",
       "    <tr>\n",
       "      <th>5999</th>\n",
       "      <td>2021-02-09T15:00:00+00:00</td>\n",
       "      <td>[51.4552693825, -2.59664882861]</td>\n",
       "      <td>NaN</td>\n",
       "      <td>23.260010</td>\n",
       "      <td>44.932065</td>\n",
       "      <td>80.601245</td>\n",
       "      <td>51.455269</td>\n",
       "      <td>-2.596649</td>\n",
       "    </tr>\n",
       "    <tr>\n",
       "      <th>5988</th>\n",
       "      <td>2021-02-09T15:00:00+00:00</td>\n",
       "      <td>[51.4278638883, -2.56374153315]</td>\n",
       "      <td>NaN</td>\n",
       "      <td>15.774550</td>\n",
       "      <td>18.599062</td>\n",
       "      <td>42.840000</td>\n",
       "      <td>51.427864</td>\n",
       "      <td>-2.563742</td>\n",
       "    </tr>\n",
       "    <tr>\n",
       "      <th>5964</th>\n",
       "      <td>2021-02-09T16:00:00+00:00</td>\n",
       "      <td>[51.432675707, -2.60495665673]</td>\n",
       "      <td>0.319902</td>\n",
       "      <td>42.086250</td>\n",
       "      <td>60.578438</td>\n",
       "      <td>125.173126</td>\n",
       "      <td>51.432676</td>\n",
       "      <td>-2.604957</td>\n",
       "    </tr>\n",
       "    <tr>\n",
       "      <th>5963</th>\n",
       "      <td>2021-02-09T16:00:00+00:00</td>\n",
       "      <td>[51.4579497129, -2.58398909033]</td>\n",
       "      <td>NaN</td>\n",
       "      <td>36.546000</td>\n",
       "      <td>58.523000</td>\n",
       "      <td>114.559000</td>\n",
       "      <td>51.457950</td>\n",
       "      <td>-2.583989</td>\n",
       "    </tr>\n",
       "    <tr>\n",
       "      <th>5951</th>\n",
       "      <td>2021-02-09T16:00:00+00:00</td>\n",
       "      <td>[51.4417471802, -2.55995583224]</td>\n",
       "      <td>NaN</td>\n",
       "      <td>3.460425</td>\n",
       "      <td>13.387500</td>\n",
       "      <td>18.646875</td>\n",
       "      <td>51.441747</td>\n",
       "      <td>-2.559956</td>\n",
       "    </tr>\n",
       "    <tr>\n",
       "      <th>5986</th>\n",
       "      <td>2021-02-09T16:00:00+00:00</td>\n",
       "      <td>[51.4628294172, -2.58454081635]</td>\n",
       "      <td>NaN</td>\n",
       "      <td>NaN</td>\n",
       "      <td>NaN</td>\n",
       "      <td>NaN</td>\n",
       "      <td>51.462829</td>\n",
       "      <td>-2.584541</td>\n",
       "    </tr>\n",
       "    <tr>\n",
       "      <th>5981</th>\n",
       "      <td>2021-02-09T16:00:00+00:00</td>\n",
       "      <td>[51.4780449714, -2.53523027459]</td>\n",
       "      <td>NaN</td>\n",
       "      <td>27.309301</td>\n",
       "      <td>37.676250</td>\n",
       "      <td>79.607812</td>\n",
       "      <td>51.478045</td>\n",
       "      <td>-2.535230</td>\n",
       "    </tr>\n",
       "  </tbody>\n",
       "</table>\n",
       "</div>"
      ],
      "text/plain": [
       "                      date_time                     geo_point_2d      temp  \\\n",
       "5999  2021-02-09T15:00:00+00:00  [51.4552693825, -2.59664882861]       NaN   \n",
       "5988  2021-02-09T15:00:00+00:00  [51.4278638883, -2.56374153315]       NaN   \n",
       "5964  2021-02-09T16:00:00+00:00   [51.432675707, -2.60495665673]  0.319902   \n",
       "5963  2021-02-09T16:00:00+00:00  [51.4579497129, -2.58398909033]       NaN   \n",
       "5951  2021-02-09T16:00:00+00:00  [51.4417471802, -2.55995583224]       NaN   \n",
       "5986  2021-02-09T16:00:00+00:00  [51.4628294172, -2.58454081635]       NaN   \n",
       "5981  2021-02-09T16:00:00+00:00  [51.4780449714, -2.53523027459]       NaN   \n",
       "\n",
       "             no        no2         nox  Longitude  Latitude  \n",
       "5999  23.260010  44.932065   80.601245  51.455269 -2.596649  \n",
       "5988  15.774550  18.599062   42.840000  51.427864 -2.563742  \n",
       "5964  42.086250  60.578438  125.173126  51.432676 -2.604957  \n",
       "5963  36.546000  58.523000  114.559000  51.457950 -2.583989  \n",
       "5951   3.460425  13.387500   18.646875  51.441747 -2.559956  \n",
       "5986        NaN        NaN         NaN  51.462829 -2.584541  \n",
       "5981  27.309301  37.676250   79.607812  51.478045 -2.535230  "
      ]
     },
     "execution_count": 9,
     "metadata": {},
     "output_type": "execute_result"
    }
   ],
   "source": [
    "import pandas as pd\n",
    "df_records = pd.DataFrame(record_values, columns=fields)\n",
    "df_records[['Longitude', 'Latitude']] = pd.DataFrame(df_records['geo_point_2d'].tolist(), index= df_records.index)\n",
    "df_records = df_records.sort_values(by='date_time')\n",
    "df_records = df_records.drop_duplicates(subset=['Longitude', 'Latitude'], keep='first')\n",
    "df_records"
   ]
  },
  {
   "cell_type": "markdown",
   "id": "phantom-debut",
   "metadata": {
    "slideshow": {
     "slide_type": "subslide"
    }
   },
   "source": [
    "# Binary probabilistic classifier\n",
    "\n",
    "Simulation of a probabilistic classifier with a linear transformation to convert raw values into the interval [0, 1]"
   ]
  },
  {
   "cell_type": "code",
   "execution_count": 10,
   "id": "reliable-emission",
   "metadata": {
    "slideshow": {
     "slide_type": "skip"
    }
   },
   "outputs": [
    {
     "name": "stderr",
     "output_type": "stream",
     "text": [
      "<ipython-input-10-a91d0c5005a5>:2: SettingWithCopyWarning: \n",
      "A value is trying to be set on a copy of a slice from a DataFrame.\n",
      "Try using .loc[row_indexer,col_indexer] = value instead\n",
      "\n",
      "See the caveats in the documentation: https://pandas.pydata.org/pandas-docs/stable/user_guide/indexing.html#returning-a-view-versus-a-copy\n",
      "  df_records['no_scaled'] = (df_records['no'] - df_records['no'].min())/(df_records['no'].max() - df_records['no'].min())\n"
     ]
    }
   ],
   "source": [
    "df_records = df_records.dropna(subset=['no'])\n",
    "df_records['no_scaled'] = (df_records['no'] - df_records['no'].min())/(df_records['no'].max() - df_records['no'].min())"
   ]
  },
  {
   "cell_type": "code",
   "execution_count": 11,
   "id": "chronic-terminology",
   "metadata": {
    "slideshow": {
     "slide_type": "skip"
    }
   },
   "outputs": [],
   "source": [
    "locations = df_records[['Longitude', 'Latitude', 'no_scaled']].values\n",
    "locations = [list(row) for row in locations]"
   ]
  },
  {
   "cell_type": "code",
   "execution_count": 12,
   "id": "mediterranean-throat",
   "metadata": {
    "slideshow": {
     "slide_type": "subslide"
    }
   },
   "outputs": [
    {
     "data": {
      "application/vnd.jupyter.widget-view+json": {
       "model_id": "5a5b6d32bf1f4c998ce25cf026fa991c",
       "version_major": 2,
       "version_minor": 0
      },
      "text/plain": [
       "Map(center=[51.4545, -2.5879], controls=(ZoomControl(options=['position', 'zoom_in_text', 'zoom_in_title', 'zo…"
      ]
     },
     "metadata": {},
     "output_type": "display_data"
    }
   ],
   "source": [
    "m = Map(center=(51.454500, -2.587900), zoom=12)\n",
    "gradient={0.0: 'blue', 1.0: 'red'}\n",
    "\n",
    "heatmap = Heatmap(\n",
    "    locations=locations,\n",
    "    radius=40,\n",
    "    gradient=gradient,\n",
    "    min_opacity=0.8,\n",
    ")\n",
    "\n",
    "m.add_layer(heatmap);\n",
    "display(m)"
   ]
  }
 ],
 "metadata": {
  "celltoolbar": "Slideshow",
  "kernelspec": {
   "display_name": "Python 3",
   "language": "python",
   "name": "python3"
  },
  "language_info": {
   "codemirror_mode": {
    "name": "ipython",
    "version": 3
   },
   "file_extension": ".py",
   "mimetype": "text/x-python",
   "name": "python",
   "nbconvert_exporter": "python",
   "pygments_lexer": "ipython3",
   "version": "3.8.5"
  }
 },
 "nbformat": 4,
 "nbformat_minor": 5
}
