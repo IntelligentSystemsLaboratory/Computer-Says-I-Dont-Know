{
 "cells": [
  {
   "cell_type": "markdown",
   "id": "dated-singles",
   "metadata": {
    "slideshow": {
     "slide_type": "slide"
    }
   },
   "source": [
    "# Title\n",
    "## Subtitle\n",
    "\n",
    "Author name"
   ]
  },
  {
   "cell_type": "markdown",
   "id": "greater-seating",
   "metadata": {
    "slideshow": {
     "slide_type": "slide"
    }
   },
   "source": [
    "# First slide\n",
    "\n",
    "Content of the first slide"
   ]
  },
  {
   "cell_type": "code",
   "execution_count": 1,
   "id": "gorgeous-force",
   "metadata": {
    "slideshow": {
     "slide_type": "skip"
    }
   },
   "outputs": [],
   "source": [
    "import numpy as np"
   ]
  },
  {
   "cell_type": "code",
   "execution_count": 2,
   "id": "legal-fiction",
   "metadata": {
    "slideshow": {
     "slide_type": "subslide"
    }
   },
   "outputs": [
    {
     "data": {
      "text/plain": [
       "array([1, 6, 6, 3, 5, 1, 2, 4, 6, 3])"
      ]
     },
     "execution_count": 2,
     "metadata": {},
     "output_type": "execute_result"
    }
   ],
   "source": [
    "np.random.randint(low=1, high=7, size=10)"
   ]
  },
  {
   "cell_type": "markdown",
   "id": "novel-crossing",
   "metadata": {
    "slideshow": {
     "slide_type": "slide"
    }
   },
   "source": [
    "# Second slide\n",
    "\n",
    "Example of ipyleaflet showing maps"
   ]
  },
  {
   "cell_type": "code",
   "execution_count": 3,
   "id": "historical-passage",
   "metadata": {
    "slideshow": {
     "slide_type": "skip"
    }
   },
   "outputs": [],
   "source": [
    "from ipyleaflet import Map, Marker"
   ]
  },
  {
   "cell_type": "code",
   "execution_count": 4,
   "id": "separate-forum",
   "metadata": {
    "slideshow": {
     "slide_type": "subslide"
    }
   },
   "outputs": [
    {
     "data": {
      "application/vnd.jupyter.widget-view+json": {
       "model_id": "2c664d2bce384d59b771a606b3b8abfa",
       "version_major": 2,
       "version_minor": 0
      },
      "text/plain": [
       "Map(center=[52.204793, 360.121558], controls=(ZoomControl(options=['position', 'zoom_in_text', 'zoom_in_title'…"
      ]
     },
     "metadata": {},
     "output_type": "display_data"
    }
   ],
   "source": [
    "center = (52.204793, 360.121558)\n",
    "m = Map(center=center, zoom=15)\n",
    "marker = Marker(location=center, draggable=True)\n",
    "m.add_layer(marker);\n",
    "display(m)"
   ]
  },
  {
   "cell_type": "markdown",
   "id": "southwest-tennessee",
   "metadata": {
    "slideshow": {
     "slide_type": "subslide"
    }
   },
   "source": [
    "## Example of heatmap on top of map"
   ]
  },
  {
   "cell_type": "code",
   "execution_count": 5,
   "id": "first-linux",
   "metadata": {
    "slideshow": {
     "slide_type": "subslide"
    }
   },
   "outputs": [
    {
     "data": {
      "application/vnd.jupyter.widget-view+json": {
       "model_id": "d233439e940e4211b7020739ef5652f2",
       "version_major": 2,
       "version_minor": 0
      },
      "text/plain": [
       "Map(center=[0, 0], controls=(ZoomControl(options=['position', 'zoom_in_text', 'zoom_in_title', 'zoom_out_text'…"
      ]
     },
     "metadata": {},
     "output_type": "display_data"
    }
   ],
   "source": [
    "from ipyleaflet import Map, Heatmap\n",
    "from random import uniform\n",
    "m = Map(center=(0, 0), zoom=2)\n",
    "\n",
    "heatmap = Heatmap(\n",
    "    locations=[[uniform(-80, 80), uniform(-180, 180), uniform(0, 1000)] for i in range(1000)],\n",
    "    radius=20\n",
    ")\n",
    "\n",
    "m.add_layer(heatmap);\n",
    "display(m)"
   ]
  },
  {
   "cell_type": "markdown",
   "id": "sapphire-classics",
   "metadata": {
    "slideshow": {
     "slide_type": "slide"
    }
   },
   "source": [
    "# Opendata Bristol\n",
    "\n",
    "Example of OpenData Bristol on top of Bristol's map"
   ]
  },
  {
   "cell_type": "code",
   "execution_count": 6,
   "id": "fleet-plasma",
   "metadata": {
    "slideshow": {
     "slide_type": "skip"
    }
   },
   "outputs": [],
   "source": [
    "air_quality_bristol_query = 'https://opendata.bristol.gov.uk/api/records/1.0/search/?dataset=air-quality-data-continuous&q=&rows=1000&sort=date_time&facet=date_time&facet=coordinates&facet=temp'\n",
    "\n",
    "import urllib, json\n",
    "\n",
    "response = urllib.request.urlopen(air_quality_bristol_query)\n",
    "\n",
    "data = json.loads(response.read())"
   ]
  },
  {
   "cell_type": "code",
   "execution_count": 7,
   "id": "romance-thong",
   "metadata": {
    "slideshow": {
     "slide_type": "skip"
    }
   },
   "outputs": [
    {
     "name": "stdout",
     "output_type": "stream",
     "text": [
      "[[[51.4417471802, -2.55995583224], 3.9904, 16.112813, 22.232813], [[51.4417471802, -2.55995583224], 3.9904, 16.112813, 22.232813]]\n"
     ]
    }
   ],
   "source": [
    "def get_records(data, fields=None):\n",
    "    '''\n",
    "    data: json object\n",
    "    fields: list of strings\n",
    "        Each dictionary entry with the field name is retrieved in the given order\n",
    "    return\n",
    "    list of list of values\n",
    "    '''\n",
    "    for record in data['records']:\n",
    "        record_fields = record['fields']\n",
    "        if fields is None:\n",
    "            yield record_fields\n",
    "        else:\n",
    "            for key in fields:\n",
    "                yield [record_fields.get(key, 'emtpy') for key in fields]\n",
    "\n",
    "record_values = list(get_records(data, fields=['geo_point_2d', 'no', 'no2', 'nox']))\n",
    "\n",
    "print(list(record_values[:2]))"
   ]
  },
  {
   "cell_type": "code",
   "execution_count": 8,
   "id": "secret-evening",
   "metadata": {
    "slideshow": {
     "slide_type": "subslide"
    }
   },
   "outputs": [
    {
     "data": {
      "application/vnd.jupyter.widget-view+json": {
       "model_id": "482fe1e34e4349cfb251d05dccc92203",
       "version_major": 2,
       "version_minor": 0
      },
      "text/plain": [
       "Map(center=[51.4545, -2.5879], controls=(ZoomControl(options=['position', 'zoom_in_text', 'zoom_in_title', 'zo…"
      ]
     },
     "metadata": {},
     "output_type": "display_data"
    }
   ],
   "source": [
    "m = Map(center=(51.454500, -2.587900), zoom=12)\n",
    "\n",
    "heatmap = Heatmap(\n",
    "    locations=[[values[0][0], values[0][1], values[1]] for values in record_values],\n",
    "    radius=20\n",
    ")\n",
    "\n",
    "m.add_layer(heatmap);\n",
    "display(m)"
   ]
  }
 ],
 "metadata": {
  "celltoolbar": "Slideshow",
  "kernelspec": {
   "display_name": "Python 3",
   "language": "python",
   "name": "python3"
  },
  "language_info": {
   "codemirror_mode": {
    "name": "ipython",
    "version": 3
   },
   "file_extension": ".py",
   "mimetype": "text/x-python",
   "name": "python",
   "nbconvert_exporter": "python",
   "pygments_lexer": "ipython3",
   "version": "3.8.5"
  }
 },
 "nbformat": 4,
 "nbformat_minor": 5
}
