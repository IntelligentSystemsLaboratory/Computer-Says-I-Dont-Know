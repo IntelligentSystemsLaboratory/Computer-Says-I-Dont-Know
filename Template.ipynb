{
 "cells": [
  {
   "cell_type": "markdown",
   "id": "dated-singles",
   "metadata": {
    "slideshow": {
     "slide_type": "slide"
    }
   },
   "source": [
    "# Title\n",
    "## Subtitle\n",
    "\n",
    "Author name"
   ]
  },
  {
   "cell_type": "markdown",
   "id": "greater-seating",
   "metadata": {
    "slideshow": {
     "slide_type": "slide"
    }
   },
   "source": [
    "# First slide\n",
    "\n",
    "Content of the first slide"
   ]
  },
  {
   "cell_type": "code",
   "execution_count": 1,
   "id": "gorgeous-force",
   "metadata": {
    "slideshow": {
     "slide_type": "skip"
    }
   },
   "outputs": [],
   "source": [
    "import numpy as np"
   ]
  },
  {
   "cell_type": "code",
   "execution_count": 2,
   "id": "piano-field",
   "metadata": {
    "slideshow": {
     "slide_type": "subslide"
    }
   },
   "outputs": [
    {
     "data": {
      "text/plain": [
       "array([1, 4, 6, 4, 1, 4, 2, 3, 6, 4, 6, 4, 4, 1, 2])"
      ]
     },
     "execution_count": 2,
     "metadata": {},
     "output_type": "execute_result"
    }
   ],
   "source": [
    "np.random.randint(low=1, high=7, size=15)"
   ]
  },
  {
   "cell_type": "markdown",
   "id": "tracked-peripheral",
   "metadata": {
    "slideshow": {
     "slide_type": "slide"
    }
   },
   "source": [
    "# Second slide\n",
    "\n",
    "Example of ipyleaflet showing maps"
   ]
  },
  {
   "cell_type": "code",
   "execution_count": 3,
   "id": "going-phenomenon",
   "metadata": {
    "slideshow": {
     "slide_type": "skip"
    }
   },
   "outputs": [],
   "source": [
    "from ipyleaflet import Map, Marker"
   ]
  },
  {
   "cell_type": "code",
   "execution_count": 4,
   "id": "thick-agenda",
   "metadata": {
    "slideshow": {
     "slide_type": "subslide"
    }
   },
   "outputs": [
    {
     "data": {
      "application/vnd.jupyter.widget-view+json": {
       "model_id": "43e30f7cd3a44e03a1be9b480b4e0c31",
       "version_major": 2,
       "version_minor": 0
      },
      "text/plain": [
       "Map(center=[52.204793, 360.121558], controls=(ZoomControl(options=['position', 'zoom_in_text', 'zoom_in_title'…"
      ]
     },
     "metadata": {},
     "output_type": "display_data"
    }
   ],
   "source": [
    "center = (52.204793, 360.121558)\n",
    "m = Map(center=center, zoom=15)\n",
    "marker = Marker(location=center, draggable=True)\n",
    "m.add_layer(marker);\n",
    "display(m)"
   ]
  },
  {
   "cell_type": "markdown",
   "id": "literary-maryland",
   "metadata": {
    "slideshow": {
     "slide_type": "subslide"
    }
   },
   "source": [
    "## Example of heatmap on top of map"
   ]
  },
  {
   "cell_type": "code",
   "execution_count": 5,
   "id": "cathedral-header",
   "metadata": {
    "slideshow": {
     "slide_type": "subslide"
    }
   },
   "outputs": [
    {
     "data": {
      "application/vnd.jupyter.widget-view+json": {
       "model_id": "cb385e22f8dc4ef88e034c93bf184d39",
       "version_major": 2,
       "version_minor": 0
      },
      "text/plain": [
       "Map(center=[0, 0], controls=(ZoomControl(options=['position', 'zoom_in_text', 'zoom_in_title', 'zoom_out_text'…"
      ]
     },
     "metadata": {},
     "output_type": "display_data"
    }
   ],
   "source": [
    "from ipyleaflet import Map, Heatmap\n",
    "from random import uniform\n",
    "m = Map(center=(0, 0), zoom=2)\n",
    "\n",
    "heatmap = Heatmap(\n",
    "    locations=[[uniform(-80, 80), uniform(-180, 180), uniform(0, 1000)] for i in range(2000)],\n",
    "    radius=20,\n",
    "    gradient={0.4: 'blue', 0.6: 'cyan', 0.7: 'lime', 0.8: 'yellow', 1.0: 'red'}\n",
    ")\n",
    "\n",
    "m.add_layer(heatmap);\n",
    "display(m)"
   ]
  },
  {
   "cell_type": "markdown",
   "id": "senior-conversation",
   "metadata": {
    "slideshow": {
     "slide_type": "slide"
    }
   },
   "source": [
    "# Opendata Bristol\n",
    "\n",
    "Example of OpenData Bristol on top of Bristol's map"
   ]
  },
  {
   "cell_type": "code",
   "execution_count": 6,
   "id": "grave-cricket",
   "metadata": {
    "scrolled": false,
    "slideshow": {
     "slide_type": "subslide"
    }
   },
   "outputs": [
    {
     "name": "stdout",
     "output_type": "stream",
     "text": [
      "Json root keys\n",
      "dict_keys(['nhits', 'parameters', 'records', 'facet_groups'])\n",
      "3 records\n"
     ]
    },
    {
     "data": {
      "text/plain": [
       "[{'datasetid': 'air-quality-data-continuous',\n",
       "  'recordid': '904639e615837a620e72ec95f8fe6c1586b8fba7',\n",
       "  'fields': {'datestart': '2003-05-23T00:00:00+00:00',\n",
       "   'date_time': '2021-02-16T12:00:00+00:00',\n",
       "   'no': 46.94955,\n",
       "   'geo_point_2d': [51.4278638883, -2.56374153315],\n",
       "   'current': 'True',\n",
       "   'nox': 105.665627,\n",
       "   'location': 'Wells Road',\n",
       "   'siteid': 270,\n",
       "   'instrumenttype': 'Continuous (Reference)',\n",
       "   'no2': 33.755625},\n",
       "  'geometry': {'type': 'Point',\n",
       "   'coordinates': [-2.56374153315, 51.4278638883]},\n",
       "  'record_timestamp': '2021-02-16T12:15:07.824000+00:00'},\n",
       " {'datasetid': 'air-quality-data-continuous',\n",
       "  'recordid': '9c3dcec78bc79ac711098d0f555fb594fa70a7c0',\n",
       "  'fields': {'datestart': '2009-03-13T00:00:00+00:00',\n",
       "   'date_time': '2021-02-16T12:00:00+00:00',\n",
       "   'no': 7.887275,\n",
       "   'geo_point_2d': [51.4780449714, -2.53523027459],\n",
       "   'current': 'True',\n",
       "   'nox': 39.97125,\n",
       "   'location': 'Fishponds Road',\n",
       "   'siteid': 463,\n",
       "   'instrumenttype': 'Continuous (Reference)',\n",
       "   'no2': 27.874688},\n",
       "  'geometry': {'type': 'Point',\n",
       "   'coordinates': [-2.53523027459, 51.4780449714]},\n",
       "  'record_timestamp': '2021-02-16T12:15:07.824000+00:00'},\n",
       " {'datasetid': 'air-quality-data-continuous',\n",
       "  'recordid': 'cbf277a37901cc77baa802a6f6235b0c5497a094',\n",
       "  'fields': {'datestart': '2001-01-01T00:00:00+00:00',\n",
       "   'date_time': '2021-02-16T12:00:00+00:00',\n",
       "   'no': 8.2302,\n",
       "   'geo_point_2d': [51.4417471802, -2.55995583224],\n",
       "   'current': 'True',\n",
       "   'nox': 31.651875,\n",
       "   'location': 'Brislington Depot',\n",
       "   'siteid': 203,\n",
       "   'instrumenttype': 'Continuous (Reference)',\n",
       "   'no2': 19.029375},\n",
       "  'geometry': {'type': 'Point',\n",
       "   'coordinates': [-2.55995583224, 51.4417471802]},\n",
       "  'record_timestamp': '2021-02-16T12:15:07.824000+00:00'}]"
      ]
     },
     "execution_count": 6,
     "metadata": {},
     "output_type": "execute_result"
    }
   ],
   "source": [
    "air_quality_bristol_query = 'https://opendata.bristol.gov.uk/api/records/1.0/search/?dataset=air-quality-data-continuous&q=&rows=1000&sort=date_time&facet=date_time&facet=coordinates&facet=temp'\n",
    "\n",
    "import urllib, json\n",
    "\n",
    "response = urllib.request.urlopen(air_quality_bristol_query)\n",
    "\n",
    "data = json.loads(response.read())\n",
    "\n",
    "print('Json root keys')\n",
    "print(data.keys())\n",
    "print('3 records')\n",
    "data['records'][:3]"
   ]
  },
  {
   "cell_type": "code",
   "execution_count": 7,
   "id": "israeli-confidence",
   "metadata": {
    "slideshow": {
     "slide_type": "skip"
    }
   },
   "outputs": [
    {
     "data": {
      "text/plain": [
       "[['2021-02-16T12:00:00+00:00',\n",
       "  [51.4278638883, -2.56374153315],\n",
       "  nan,\n",
       "  46.94955,\n",
       "  33.755625,\n",
       "  105.665627],\n",
       " ['2021-02-16T12:00:00+00:00',\n",
       "  [51.4278638883, -2.56374153315],\n",
       "  nan,\n",
       "  46.94955,\n",
       "  33.755625,\n",
       "  105.665627],\n",
       " ['2021-02-16T12:00:00+00:00',\n",
       "  [51.4278638883, -2.56374153315],\n",
       "  nan,\n",
       "  46.94955,\n",
       "  33.755625,\n",
       "  105.665627],\n",
       " ['2021-02-16T12:00:00+00:00',\n",
       "  [51.4278638883, -2.56374153315],\n",
       "  nan,\n",
       "  46.94955,\n",
       "  33.755625,\n",
       "  105.665627],\n",
       " ['2021-02-16T12:00:00+00:00',\n",
       "  [51.4278638883, -2.56374153315],\n",
       "  nan,\n",
       "  46.94955,\n",
       "  33.755625,\n",
       "  105.665627]]"
      ]
     },
     "execution_count": 7,
     "metadata": {},
     "output_type": "execute_result"
    }
   ],
   "source": [
    "def get_records(data, fields=None):\n",
    "    '''\n",
    "    data: json object\n",
    "    fields: list of strings\n",
    "        Each dictionary entry with the field name is retrieved in the given order\n",
    "    return\n",
    "    list of list of values\n",
    "    '''\n",
    "    for record in data['records']:\n",
    "        record_fields = record['fields']\n",
    "        if fields is None:\n",
    "            yield record_fields\n",
    "        else:\n",
    "            for key in fields:\n",
    "                yield [record_fields.get(key, np.nan) for key in fields]\n",
    "\n",
    "fields = ['date_time', 'geo_point_2d', 'temp', 'no', 'no2', 'nox']\n",
    "                \n",
    "record_values = list(get_records(data, fields=fields))\n",
    "\n",
    "record_values[:5]"
   ]
  },
  {
   "cell_type": "code",
   "execution_count": 8,
   "id": "improving-martin",
   "metadata": {
    "scrolled": false,
    "slideshow": {
     "slide_type": "subslide"
    }
   },
   "outputs": [
    {
     "data": {
      "application/vnd.jupyter.widget-view+json": {
       "model_id": "6711b7b4c0b04fa790b18a642a5e905e",
       "version_major": 2,
       "version_minor": 0
      },
      "text/plain": [
       "Map(center=[51.4545, -2.5879], controls=(ZoomControl(options=['position', 'zoom_in_text', 'zoom_in_title', 'zo…"
      ]
     },
     "metadata": {},
     "output_type": "display_data"
    }
   ],
   "source": [
    "m = Map(center=(51.454500, -2.587900), zoom=12)\n",
    "gradient={0.4: 'blue', 0.6: 'cyan', 0.7: 'lime', 0.8: 'yellow', 1.0: 'red'}\n",
    "\n",
    "position_id = []\n",
    "\n",
    "field_map = {field: i for i, field in enumerate(fields)}\n",
    "heatmap = Heatmap(\n",
    "    locations=[[values[field_map['geo_point_2d']][0],\n",
    "                values[field_map['geo_point_2d']][1],\n",
    "                values[field_map['no']]] for values in record_values],\n",
    "    radius=20,\n",
    "    gradient=gradient\n",
    ")\n",
    "\n",
    "m.add_layer(heatmap);\n",
    "display(m)"
   ]
  },
  {
   "cell_type": "markdown",
   "id": "dominican-hindu",
   "metadata": {
    "slideshow": {
     "slide_type": "slide"
    }
   },
   "source": [
    "# Pandas dataframe\n",
    "\n",
    "We will use pandas to analyse the data"
   ]
  },
  {
   "cell_type": "code",
   "execution_count": 9,
   "id": "addressed-pursuit",
   "metadata": {
    "slideshow": {
     "slide_type": "subslide"
    }
   },
   "outputs": [
    {
     "data": {
      "text/html": [
       "<div>\n",
       "<style scoped>\n",
       "    .dataframe tbody tr th:only-of-type {\n",
       "        vertical-align: middle;\n",
       "    }\n",
       "\n",
       "    .dataframe tbody tr th {\n",
       "        vertical-align: top;\n",
       "    }\n",
       "\n",
       "    .dataframe thead th {\n",
       "        text-align: right;\n",
       "    }\n",
       "</style>\n",
       "<table border=\"1\" class=\"dataframe\">\n",
       "  <thead>\n",
       "    <tr style=\"text-align: right;\">\n",
       "      <th></th>\n",
       "      <th>date_time</th>\n",
       "      <th>geo_point_2d</th>\n",
       "      <th>temp</th>\n",
       "      <th>no</th>\n",
       "      <th>no2</th>\n",
       "      <th>nox</th>\n",
       "      <th>Longitude</th>\n",
       "      <th>Latitude</th>\n",
       "    </tr>\n",
       "  </thead>\n",
       "  <tbody>\n",
       "    <tr>\n",
       "      <th>5999</th>\n",
       "      <td>2021-02-10T10:00:00+00:00</td>\n",
       "      <td>[51.4579497129, -2.58398909033]</td>\n",
       "      <td>NaN</td>\n",
       "      <td>54.507000</td>\n",
       "      <td>56.801000</td>\n",
       "      <td>140.377000</td>\n",
       "      <td>51.457950</td>\n",
       "      <td>-2.583989</td>\n",
       "    </tr>\n",
       "    <tr>\n",
       "      <th>5975</th>\n",
       "      <td>2021-02-10T10:00:00+00:00</td>\n",
       "      <td>[51.432675707, -2.60495665673]</td>\n",
       "      <td>-1.164835</td>\n",
       "      <td>48.695350</td>\n",
       "      <td>66.602812</td>\n",
       "      <td>141.285936</td>\n",
       "      <td>51.432676</td>\n",
       "      <td>-2.604957</td>\n",
       "    </tr>\n",
       "    <tr>\n",
       "      <th>5969</th>\n",
       "      <td>2021-02-10T10:00:00+00:00</td>\n",
       "      <td>[51.4278638883, -2.56374153315]</td>\n",
       "      <td>NaN</td>\n",
       "      <td>8.916050</td>\n",
       "      <td>7.793438</td>\n",
       "      <td>21.515625</td>\n",
       "      <td>51.427864</td>\n",
       "      <td>-2.563742</td>\n",
       "    </tr>\n",
       "    <tr>\n",
       "      <th>5976</th>\n",
       "      <td>2021-02-10T10:00:00+00:00</td>\n",
       "      <td>[51.4780449714, -2.53523027459]</td>\n",
       "      <td>NaN</td>\n",
       "      <td>19.411634</td>\n",
       "      <td>28.241251</td>\n",
       "      <td>58.012501</td>\n",
       "      <td>51.478045</td>\n",
       "      <td>-2.535230</td>\n",
       "    </tr>\n",
       "    <tr>\n",
       "      <th>5963</th>\n",
       "      <td>2021-02-10T10:00:00+00:00</td>\n",
       "      <td>[51.4552693825, -2.59664882861]</td>\n",
       "      <td>NaN</td>\n",
       "      <td>37.976000</td>\n",
       "      <td>70.983499</td>\n",
       "      <td>129.227626</td>\n",
       "      <td>51.455269</td>\n",
       "      <td>-2.596649</td>\n",
       "    </tr>\n",
       "    <tr>\n",
       "      <th>5993</th>\n",
       "      <td>2021-02-10T10:00:00+00:00</td>\n",
       "      <td>[51.4628294172, -2.58454081635]</td>\n",
       "      <td>NaN</td>\n",
       "      <td>NaN</td>\n",
       "      <td>NaN</td>\n",
       "      <td>NaN</td>\n",
       "      <td>51.462829</td>\n",
       "      <td>-2.584541</td>\n",
       "    </tr>\n",
       "    <tr>\n",
       "      <th>5987</th>\n",
       "      <td>2021-02-10T10:00:00+00:00</td>\n",
       "      <td>[51.4417471802, -2.55995583224]</td>\n",
       "      <td>NaN</td>\n",
       "      <td>10.537150</td>\n",
       "      <td>27.205313</td>\n",
       "      <td>43.413751</td>\n",
       "      <td>51.441747</td>\n",
       "      <td>-2.559956</td>\n",
       "    </tr>\n",
       "  </tbody>\n",
       "</table>\n",
       "</div>"
      ],
      "text/plain": [
       "                      date_time                     geo_point_2d      temp  \\\n",
       "5999  2021-02-10T10:00:00+00:00  [51.4579497129, -2.58398909033]       NaN   \n",
       "5975  2021-02-10T10:00:00+00:00   [51.432675707, -2.60495665673] -1.164835   \n",
       "5969  2021-02-10T10:00:00+00:00  [51.4278638883, -2.56374153315]       NaN   \n",
       "5976  2021-02-10T10:00:00+00:00  [51.4780449714, -2.53523027459]       NaN   \n",
       "5963  2021-02-10T10:00:00+00:00  [51.4552693825, -2.59664882861]       NaN   \n",
       "5993  2021-02-10T10:00:00+00:00  [51.4628294172, -2.58454081635]       NaN   \n",
       "5987  2021-02-10T10:00:00+00:00  [51.4417471802, -2.55995583224]       NaN   \n",
       "\n",
       "             no        no2         nox  Longitude  Latitude  \n",
       "5999  54.507000  56.801000  140.377000  51.457950 -2.583989  \n",
       "5975  48.695350  66.602812  141.285936  51.432676 -2.604957  \n",
       "5969   8.916050   7.793438   21.515625  51.427864 -2.563742  \n",
       "5976  19.411634  28.241251   58.012501  51.478045 -2.535230  \n",
       "5963  37.976000  70.983499  129.227626  51.455269 -2.596649  \n",
       "5993        NaN        NaN         NaN  51.462829 -2.584541  \n",
       "5987  10.537150  27.205313   43.413751  51.441747 -2.559956  "
      ]
     },
     "execution_count": 9,
     "metadata": {},
     "output_type": "execute_result"
    }
   ],
   "source": [
    "import pandas as pd\n",
    "df_records = pd.DataFrame(record_values, columns=fields)\n",
    "df_records[['Longitude', 'Latitude']] = pd.DataFrame(df_records['geo_point_2d'].tolist(), index= df_records.index)\n",
    "df_records = df_records.sort_values(by='date_time')\n",
    "df_records = df_records.drop_duplicates(subset=['Longitude', 'Latitude'], keep='first')\n",
    "df_records"
   ]
  },
  {
   "cell_type": "markdown",
   "id": "phantom-debut",
   "metadata": {
    "slideshow": {
     "slide_type": "subslide"
    }
   },
   "source": [
    "# Binary probabilistic classifier\n",
    "\n",
    "Simulation of a probabilistic classifier with a linear transformation to convert raw values into the interval [0, 1]"
   ]
  },
  {
   "cell_type": "code",
   "execution_count": 10,
   "id": "accepted-river",
   "metadata": {
    "slideshow": {
     "slide_type": "skip"
    }
   },
   "outputs": [
    {
     "name": "stderr",
     "output_type": "stream",
     "text": [
      "<ipython-input-10-a91d0c5005a5>:2: SettingWithCopyWarning: \n",
      "A value is trying to be set on a copy of a slice from a DataFrame.\n",
      "Try using .loc[row_indexer,col_indexer] = value instead\n",
      "\n",
      "See the caveats in the documentation: https://pandas.pydata.org/pandas-docs/stable/user_guide/indexing.html#returning-a-view-versus-a-copy\n",
      "  df_records['no_scaled'] = (df_records['no'] - df_records['no'].min())/(df_records['no'].max() - df_records['no'].min())\n"
     ]
    }
   ],
   "source": [
    "df_records = df_records.dropna(subset=['no'])\n",
    "df_records['no_scaled'] = (df_records['no'] - df_records['no'].min())/(df_records['no'].max() - df_records['no'].min())"
   ]
  },
  {
   "cell_type": "code",
   "execution_count": 11,
   "id": "electronic-saudi",
   "metadata": {
    "slideshow": {
     "slide_type": "skip"
    }
   },
   "outputs": [],
   "source": [
    "locations = df_records[['Longitude', 'Latitude', 'no_scaled']].values\n",
    "locations = [list(row) for row in locations]"
   ]
  },
  {
   "cell_type": "code",
   "execution_count": 12,
   "id": "mediterranean-throat",
   "metadata": {
    "slideshow": {
     "slide_type": "subslide"
    }
   },
   "outputs": [
    {
     "data": {
      "application/vnd.jupyter.widget-view+json": {
       "model_id": "b11c9b30fe924939ab370fd5dee93fc8",
       "version_major": 2,
       "version_minor": 0
      },
      "text/plain": [
       "Map(center=[51.4545, -2.5879], controls=(ZoomControl(options=['position', 'zoom_in_text', 'zoom_in_title', 'zo…"
      ]
     },
     "metadata": {},
     "output_type": "display_data"
    }
   ],
   "source": [
    "m = Map(center=(51.454500, -2.587900), zoom=12)\n",
    "gradient={0.0: 'blue', 1.0: 'red'}\n",
    "\n",
    "heatmap = Heatmap(\n",
    "    locations=locations,\n",
    "    radius=40,\n",
    "    gradient=gradient,\n",
    "    min_opacity=0.5,\n",
    ")\n",
    "\n",
    "m.add_layer(heatmap);\n",
    "display(m)"
   ]
  },
  {
   "cell_type": "code",
   "execution_count": 13,
   "id": "gothic-article",
   "metadata": {},
   "outputs": [
    {
     "data": {
      "text/html": [
       "<div>\n",
       "<style scoped>\n",
       "    .dataframe tbody tr th:only-of-type {\n",
       "        vertical-align: middle;\n",
       "    }\n",
       "\n",
       "    .dataframe tbody tr th {\n",
       "        vertical-align: top;\n",
       "    }\n",
       "\n",
       "    .dataframe thead th {\n",
       "        text-align: right;\n",
       "    }\n",
       "</style>\n",
       "<table border=\"1\" class=\"dataframe\">\n",
       "  <thead>\n",
       "    <tr style=\"text-align: right;\">\n",
       "      <th></th>\n",
       "      <th>date_time</th>\n",
       "      <th>geo_point_2d</th>\n",
       "      <th>temp</th>\n",
       "      <th>no</th>\n",
       "      <th>no2</th>\n",
       "      <th>nox</th>\n",
       "      <th>Longitude</th>\n",
       "      <th>Latitude</th>\n",
       "      <th>no_scaled</th>\n",
       "    </tr>\n",
       "  </thead>\n",
       "  <tbody>\n",
       "    <tr>\n",
       "      <th>5999</th>\n",
       "      <td>2021-02-10T10:00:00+00:00</td>\n",
       "      <td>[51.4579497129, -2.58398909033]</td>\n",
       "      <td>NaN</td>\n",
       "      <td>54.507000</td>\n",
       "      <td>56.801000</td>\n",
       "      <td>140.377000</td>\n",
       "      <td>51.457950</td>\n",
       "      <td>-2.583989</td>\n",
       "      <td>1.000000</td>\n",
       "    </tr>\n",
       "    <tr>\n",
       "      <th>5975</th>\n",
       "      <td>2021-02-10T10:00:00+00:00</td>\n",
       "      <td>[51.432675707, -2.60495665673]</td>\n",
       "      <td>-1.164835</td>\n",
       "      <td>48.695350</td>\n",
       "      <td>66.602812</td>\n",
       "      <td>141.285936</td>\n",
       "      <td>51.432676</td>\n",
       "      <td>-2.604957</td>\n",
       "      <td>0.872526</td>\n",
       "    </tr>\n",
       "    <tr>\n",
       "      <th>5969</th>\n",
       "      <td>2021-02-10T10:00:00+00:00</td>\n",
       "      <td>[51.4278638883, -2.56374153315]</td>\n",
       "      <td>NaN</td>\n",
       "      <td>8.916050</td>\n",
       "      <td>7.793438</td>\n",
       "      <td>21.515625</td>\n",
       "      <td>51.427864</td>\n",
       "      <td>-2.563742</td>\n",
       "      <td>0.000000</td>\n",
       "    </tr>\n",
       "    <tr>\n",
       "      <th>5976</th>\n",
       "      <td>2021-02-10T10:00:00+00:00</td>\n",
       "      <td>[51.4780449714, -2.53523027459]</td>\n",
       "      <td>NaN</td>\n",
       "      <td>19.411634</td>\n",
       "      <td>28.241251</td>\n",
       "      <td>58.012501</td>\n",
       "      <td>51.478045</td>\n",
       "      <td>-2.535230</td>\n",
       "      <td>0.230212</td>\n",
       "    </tr>\n",
       "    <tr>\n",
       "      <th>5963</th>\n",
       "      <td>2021-02-10T10:00:00+00:00</td>\n",
       "      <td>[51.4552693825, -2.59664882861]</td>\n",
       "      <td>NaN</td>\n",
       "      <td>37.976000</td>\n",
       "      <td>70.983499</td>\n",
       "      <td>129.227626</td>\n",
       "      <td>51.455269</td>\n",
       "      <td>-2.596649</td>\n",
       "      <td>0.637406</td>\n",
       "    </tr>\n",
       "    <tr>\n",
       "      <th>5987</th>\n",
       "      <td>2021-02-10T10:00:00+00:00</td>\n",
       "      <td>[51.4417471802, -2.55995583224]</td>\n",
       "      <td>NaN</td>\n",
       "      <td>10.537150</td>\n",
       "      <td>27.205313</td>\n",
       "      <td>43.413751</td>\n",
       "      <td>51.441747</td>\n",
       "      <td>-2.559956</td>\n",
       "      <td>0.035557</td>\n",
       "    </tr>\n",
       "  </tbody>\n",
       "</table>\n",
       "</div>"
      ],
      "text/plain": [
       "                      date_time                     geo_point_2d      temp  \\\n",
       "5999  2021-02-10T10:00:00+00:00  [51.4579497129, -2.58398909033]       NaN   \n",
       "5975  2021-02-10T10:00:00+00:00   [51.432675707, -2.60495665673] -1.164835   \n",
       "5969  2021-02-10T10:00:00+00:00  [51.4278638883, -2.56374153315]       NaN   \n",
       "5976  2021-02-10T10:00:00+00:00  [51.4780449714, -2.53523027459]       NaN   \n",
       "5963  2021-02-10T10:00:00+00:00  [51.4552693825, -2.59664882861]       NaN   \n",
       "5987  2021-02-10T10:00:00+00:00  [51.4417471802, -2.55995583224]       NaN   \n",
       "\n",
       "             no        no2         nox  Longitude  Latitude  no_scaled  \n",
       "5999  54.507000  56.801000  140.377000  51.457950 -2.583989   1.000000  \n",
       "5975  48.695350  66.602812  141.285936  51.432676 -2.604957   0.872526  \n",
       "5969   8.916050   7.793438   21.515625  51.427864 -2.563742   0.000000  \n",
       "5976  19.411634  28.241251   58.012501  51.478045 -2.535230   0.230212  \n",
       "5963  37.976000  70.983499  129.227626  51.455269 -2.596649   0.637406  \n",
       "5987  10.537150  27.205313   43.413751  51.441747 -2.559956   0.035557  "
      ]
     },
     "execution_count": 13,
     "metadata": {},
     "output_type": "execute_result"
    }
   ],
   "source": [
    "df_records"
   ]
  },
  {
   "cell_type": "markdown",
   "id": "needed-lender",
   "metadata": {
    "slideshow": {
     "slide_type": "slide"
    }
   },
   "source": [
    "# Simulate probabilistic linear classifier\n",
    "\n",
    "We start by a uniform value through all the map.\n",
    "\n",
    "The points are uniformly distributed across the latitude and longitude at 2 degrees on every direction. Because the equirectangular projection the latitude degrees seem to be more spaced on the poles, and very concentrated near the equator. The longitudinal distribution is not affected on this representation. "
   ]
  },
  {
   "cell_type": "code",
   "execution_count": 14,
   "id": "cleared-wesley",
   "metadata": {
    "slideshow": {
     "slide_type": "slide"
    }
   },
   "outputs": [
    {
     "data": {
      "application/vnd.jupyter.widget-view+json": {
       "model_id": "b1e72ef81c11416cacd3359178d043c7",
       "version_major": 2,
       "version_minor": 0
      },
      "text/plain": [
       "Map(center=[0, 0], controls=(ZoomControl(options=['position', 'zoom_in_text', 'zoom_in_title', 'zoom_out_text'…"
      ]
     },
     "metadata": {},
     "output_type": "display_data"
    }
   ],
   "source": [
    "from ipyleaflet import Map, Heatmap\n",
    "from random import uniform\n",
    "m = Map(center=(0, 0), zoom=0)\n",
    "\n",
    "\n",
    "nlon, nlat = (180, 90)\n",
    "lon = np.linspace(-180, 180, nlon)\n",
    "lat = np.linspace(-90, 90, nlat)\n",
    "lonv, latv = np.meshgrid(lon, lat, indexing='ij')\n",
    "probs = np.ones_like(lonv)*500 #100*(latv - latv.min())/(latv.max() - latv.min())\n",
    "\n",
    "heatmap = Heatmap(\n",
    "    locations=[[latv[i,j], lonv[i,j], probs[i,j]] for i in range(nlon) for j in range(nlat)],\n",
    "    radius=10,\n",
    "    gradient={0.0: 'blue', 1.0: 'red'}\n",
    ")\n",
    "\n",
    "m.add_layer(heatmap);\n",
    "display(m)"
   ]
  },
  {
   "cell_type": "markdown",
   "id": "assured-somewhere",
   "metadata": {
    "slideshow": {
     "slide_type": "slide"
    }
   },
   "source": [
    "# North vs South\n",
    "\n",
    "Simulation of a probabilistic classifier that predicts the probability of North vs South poles.\n",
    "\n",
    "We will first generate a grid of 2 degrees in every direction and assign probabilities and will visualise in a Matplotlib heatmap."
   ]
  },
  {
   "cell_type": "code",
   "execution_count": 15,
   "id": "lesbian-shipping",
   "metadata": {
    "slideshow": {
     "slide_type": "subslide"
    }
   },
   "outputs": [
    {
     "data": {
      "image/png": "[encoded data removed]",
      "text/plain": [
       "<Figure size 1080x360 with 6 Axes>"
      ]
     },
     "metadata": {
      "needs_background": "light"
     },
     "output_type": "display_data"
    }
   ],
   "source": [
    "import matplotlib.pyplot as plt\n",
    "from mpl_toolkits.axes_grid1 import make_axes_locatable\n",
    "\n",
    "nlon, nlat = (180, 90)\n",
    "lon = np.linspace(-180, 180, nlon)\n",
    "lat = np.linspace(-90, 90, nlat)\n",
    "lonv, latv = np.meshgrid(lon, lat, indexing='ij')\n",
    "probs = 100*(latv - latv.min())/(latv.max() - latv.min())\n",
    "\n",
    "fig = plt.figure(figsize=(15, 5))\n",
    "for i, (name, matrix) in enumerate({'longitude': lonv, 'latitude': latv, 'probabilities': probs}.items()):\n",
    "    ax = fig.add_subplot(1, 3, i+1)\n",
    "    ax.set_title(name)\n",
    "    img = ax.imshow(matrix.T)\n",
    "    divider = make_axes_locatable(ax)\n",
    "    cax = divider.append_axes(\"right\", size=\"5%\", pad=0.05)\n",
    "    fig.colorbar(img, cax=cax)"
   ]
  },
  {
   "cell_type": "markdown",
   "id": "biological-extent",
   "metadata": {
    "slideshow": {
     "slide_type": "subslide"
    }
   },
   "source": [
    "If we show the probability of North it seems that the probability of South has an alpha transparency of 1.0. Making it difficult to see the South (yellow) predictions."
   ]
  },
  {
   "cell_type": "code",
   "execution_count": 16,
   "id": "fifteen-exclusive",
   "metadata": {
    "scrolled": false,
    "slideshow": {
     "slide_type": "subslide"
    }
   },
   "outputs": [
    {
     "data": {
      "application/vnd.jupyter.widget-view+json": {
       "model_id": "f65e5a134787414d8299983a9c21b1ca",
       "version_major": 2,
       "version_minor": 0
      },
      "text/plain": [
       "Map(center=[0, 0], controls=(ZoomControl(options=['position', 'zoom_in_text', 'zoom_in_title', 'zoom_out_text'…"
      ]
     },
     "metadata": {},
     "output_type": "display_data"
    }
   ],
   "source": [
    "from ipyleaflet import Map, Heatmap\n",
    "from random import uniform\n",
    "m = Map(center=(0, 0), zoom=0)\n",
    "\n",
    "nlon, nlat = (180, 90)\n",
    "lon = np.linspace(-180, 180, nlon)\n",
    "lat = np.linspace(-90, 90, nlat)\n",
    "lonv, latv = np.meshgrid(lon, lat, indexing='ij')\n",
    "probs = 100*(latv - latv.min())/(latv.max() - latv.min())\n",
    "\n",
    "heatmap = Heatmap(\n",
    "    locations=[[latv[i,j], lonv[i,j], probs[i,j]] for i in range(nlon) for j in range(nlat)],\n",
    "    radius=20,\n",
    "    gradient={0.0: 'yellow', 0.5: 'green', 1.0: 'blue'}\n",
    ")\n",
    "\n",
    "m.add_layer(heatmap);\n",
    "display(m)"
   ]
  },
  {
   "cell_type": "code",
   "execution_count": 17,
   "id": "killing-roman",
   "metadata": {
    "slideshow": {
     "slide_type": "subslide"
    }
   },
   "outputs": [
    {
     "data": {
      "application/vnd.jupyter.widget-view+json": {
       "model_id": "827ee78b69784edda291671c7b3b1d0b",
       "version_major": 2,
       "version_minor": 0
      },
      "text/plain": [
       "Map(center=[0, 0], controls=(ZoomControl(options=['position', 'zoom_in_text', 'zoom_in_title', 'zoom_out_text'…"
      ]
     },
     "metadata": {},
     "output_type": "display_data"
    }
   ],
   "source": [
    "m = Map(center=(0, 0), zoom=0)\n",
    "\n",
    "probs_s = 100 - probs\n",
    "\n",
    "heatmap = Heatmap(\n",
    "    locations=[[latv[i,j], lonv[i,j], probs_s[i,j]] for i in range(nlon) for j in range(nlat)],\n",
    "    radius=20,\n",
    "    gradient={0.0: 'blue', 0.5: 'green', 1.0: 'yellow'}\n",
    ")\n",
    "\n",
    "m.add_layer(heatmap);\n",
    "display(m)"
   ]
  },
  {
   "cell_type": "markdown",
   "id": "chronic-costs",
   "metadata": {
    "slideshow": {
     "slide_type": "subslide"
    }
   },
   "source": [
    "It is necessary to show the probability of both classes in separate layers, given that the probabilities near 0 have the alpha channel to 1 and are not visible. "
   ]
  },
  {
   "cell_type": "code",
   "execution_count": 18,
   "id": "outside-wallpaper",
   "metadata": {
    "slideshow": {
     "slide_type": "subslide"
    }
   },
   "outputs": [
    {
     "data": {
      "application/vnd.jupyter.widget-view+json": {
       "model_id": "52911c6369904282a1557a86201766ea",
       "version_major": 2,
       "version_minor": 0
      },
      "text/plain": [
       "Map(center=[0, 0], controls=(ZoomControl(options=['position', 'zoom_in_text', 'zoom_in_title', 'zoom_out_text'…"
      ]
     },
     "metadata": {},
     "output_type": "display_data"
    }
   ],
   "source": [
    "from ipyleaflet import Map, Heatmap\n",
    "from random import uniform\n",
    "m = Map(center=(0, 0), zoom=0)\n",
    "\n",
    "\n",
    "nlon, nlat = (180, 90)\n",
    "lon = np.linspace(-180, 180, nlon)\n",
    "lat = np.linspace(-90, 90, nlat)\n",
    "lonv, latv = np.meshgrid(lon, lat, indexing='ij')\n",
    "probs = 100*(latv - latv.min())/(latv.max() - latv.min())\n",
    "\n",
    "heatmap = Heatmap(\n",
    "    locations=[[latv[i,j], lonv[i,j], probs[i,j]] for i in range(nlon) for j in range(nlat)],\n",
    "    radius=20,\n",
    "    gradient={0.0: 'yellow', 0.5: 'green', 1.0: 'blue'}\n",
    ")\n",
    "\n",
    "m.add_layer(heatmap);\n",
    "\n",
    "probs = 100 - probs\n",
    "\n",
    "heatmap = Heatmap(\n",
    "    locations=[[latv[i,j], lonv[i,j], probs[i,j]] for i in range(nlon) for j in range(nlat)],\n",
    "    radius=20,\n",
    "    gradient={0.0: 'blue', 0.5: 'green', 1.0: 'yellow'}\n",
    ")\n",
    "\n",
    "m.add_layer(heatmap);\n",
    "display(m)"
   ]
  },
  {
   "cell_type": "markdown",
   "id": "mental-slovakia",
   "metadata": {},
   "source": [
    "# Avoid projection deformation\n",
    "\n",
    "In order to avoid the deformation of the grid from the sphere to the rectangle we can zoom into a smaller region of the map, as the deformation is less apparent. But the zoom and the heatmap still behave in a non-ideal way. It is very difficult to adjust a proper set of parameters for the heatmap to work with short and long zoom levels."
   ]
  },
  {
   "cell_type": "code",
   "execution_count": 19,
   "id": "comic-white",
   "metadata": {
    "slideshow": {
     "slide_type": "subslide"
    }
   },
   "outputs": [
    {
     "data": {
      "application/vnd.jupyter.widget-view+json": {
       "model_id": "a0cb4669320a4d7eb4666af151b4b403",
       "version_major": 2,
       "version_minor": 0
      },
      "text/plain": [
       "Map(center=[55, 0], controls=(ZoomControl(options=['position', 'zoom_in_text', 'zoom_in_title', 'zoom_out_text…"
      ]
     },
     "metadata": {},
     "output_type": "display_data"
    }
   ],
   "source": [
    "from ipyleaflet import Map, Heatmap\n",
    "from random import uniform\n",
    "m = Map(center=(55, 0), zoom=4.3)\n",
    "\n",
    "\n",
    "nlon, nlat = (100, 100)\n",
    "lon = np.linspace(-10, 10, nlon)\n",
    "lat = np.linspace(50, 60, nlat)\n",
    "lonv, latv = np.meshgrid(lon, lat, indexing='ij')\n",
    "probs = 100*(latv - latv.min())/(latv.max() - latv.min())\n",
    "\n",
    "color_per_class = [{0.0: 'yellow', 0.5: 'green', 1.0: 'blue'},\n",
    "                   {0.0: 'blue', 0.5: 'green', 1.0: 'yellow'}]\n",
    "\n",
    "for (gradient, values) in zip(*[color_per_class, [probs, 100 - probs]]):\n",
    "    heatmap = Heatmap(\n",
    "        locations=[[latv[i,j], lonv[i,j], values[i,j]] for i in range(nlon) for j in range(nlat)],\n",
    "        radius=20,\n",
    "        gradient=gradient\n",
    "    )\n",
    "\n",
    "    m.add_layer(heatmap);\n",
    "\n",
    "display(m)"
   ]
  },
  {
   "cell_type": "code",
   "execution_count": 20,
   "id": "saving-recovery",
   "metadata": {},
   "outputs": [
    {
     "name": "stdout",
     "output_type": "stream",
     "text": [
      "Requirement already satisfied: requests in ./venv/lib/python3.8/site-packages (2.25.1)\n",
      "Requirement already satisfied: chardet<5,>=3.0.2 in ./venv/lib/python3.8/site-packages (from requests) (4.0.0)\n",
      "Requirement already satisfied: urllib3<1.27,>=1.21.1 in ./venv/lib/python3.8/site-packages (from requests) (1.26.3)\n",
      "Requirement already satisfied: certifi>=2017.4.17 in ./venv/lib/python3.8/site-packages (from requests) (2020.12.5)\n",
      "Requirement already satisfied: idna<3,>=2.5 in ./venv/lib/python3.8/site-packages (from requests) (2.10)\n",
      "Note: you may need to restart the kernel to use updated packages.\n"
     ]
    }
   ],
   "source": [
    "pip install requests"
   ]
  },
  {
   "cell_type": "markdown",
   "id": "impressive-keyboard",
   "metadata": {
    "slideshow": {
     "slide_type": "slide"
    }
   },
   "source": [
    "# Country contours and Search Engine\n",
    "\n",
    "The following is an example of country contours and the option to search for country names."
   ]
  },
  {
   "cell_type": "code",
   "execution_count": 21,
   "id": "knowing-bonus",
   "metadata": {
    "slideshow": {
     "slide_type": "subslide"
    }
   },
   "outputs": [
    {
     "data": {
      "application/vnd.jupyter.widget-view+json": {
       "model_id": "ccb107acdcc04c0c8c6314cfd9e7dbf8",
       "version_major": 2,
       "version_minor": 0
      },
      "text/plain": [
       "Map(center=[19.1646, 72.8493], controls=(ZoomControl(options=['position', 'zoom_in_text', 'zoom_in_title', 'zo…"
      ]
     },
     "metadata": {},
     "output_type": "display_data"
    }
   ],
   "source": [
    "import json\n",
    "import os\n",
    "import requests\n",
    "\n",
    "from ipyleaflet import AwesomeIcon, GeoJSON, Map, Marker, LayerGroup, SearchControl\n",
    "\n",
    "m = Map(zoom=3, center=[19.1646, 72.8493])\n",
    "\n",
    "if not os.path.exists('countries.geo.json'):\n",
    "      url = 'https://raw.githubusercontent.com/jupyter-widgets/ipyleaflet/master/examples/countries.geo.json'\n",
    "      r = requests.get(url)\n",
    "      with open('countries.geo.json', 'w') as f:\n",
    "        f.write(r.content.decode(\"utf-8\"))\n",
    "\n",
    "with open(\"countries.geo.json\") as f:\n",
    "    data = json.load(f)\n",
    "\n",
    "countries = GeoJSON(data=data)\n",
    "\n",
    "layer_group = LayerGroup(layers=(countries,))\n",
    "marker = Marker(icon=AwesomeIcon(name=\"check\", marker_color='green', icon_color='darkred'))\n",
    "\n",
    "m.add_control(SearchControl(\n",
    "  position=\"topleft\",\n",
    "  layer=layer_group,\n",
    "  zoom=4,\n",
    "  property_name='name',\n",
    "  marker=marker\n",
    "))\n",
    "\n",
    "m"
   ]
  }
 ],
 "metadata": {
  "celltoolbar": "Slideshow",
  "kernelspec": {
   "display_name": "Python 3",
   "language": "python",
   "name": "python3"
  },
  "language_info": {
   "codemirror_mode": {
    "name": "ipython",
    "version": 3
   },
   "file_extension": ".py",
   "mimetype": "text/x-python",
   "name": "python",
   "nbconvert_exporter": "python",
   "pygments_lexer": "ipython3",
   "version": "3.8.5"
  }
 },
 "nbformat": 4,
 "nbformat_minor": 5
}
