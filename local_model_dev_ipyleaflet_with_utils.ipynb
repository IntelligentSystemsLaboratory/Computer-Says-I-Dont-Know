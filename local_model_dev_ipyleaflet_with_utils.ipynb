{
 "cells": [
  {
   "cell_type": "code",
   "execution_count": 33,
   "id": "considered-clock",
   "metadata": {},
   "outputs": [],
   "source": [
    "import numpy\n",
    "import numpy as np\n",
    "from joblib import dump, load\n",
    "import scipy.stats\n",
    "import matplotlib.pyplot as plt\n",
    "\n",
    "import mpld3\n",
    "mpld3.enable_notebook()\n",
    "\n",
    "# Hide all matplotlib figures\n",
    "#plt.ioff()\n",
    "\n",
    "np.random.seed(42)\n",
    "\n",
    "plt.rcParams[\"figure.figsize\"] = (20,3)"
   ]
  },
  {
   "cell_type": "code",
   "execution_count": 34,
   "id": "norman-blond",
   "metadata": {},
   "outputs": [],
   "source": [
    "from utils import load_data\n",
    "x, y = load_data()"
   ]
  },
  {
   "cell_type": "code",
   "execution_count": 35,
   "id": "chemical-virgin",
   "metadata": {},
   "outputs": [
    {
     "name": "stdout",
     "output_type": "stream",
     "text": [
      "[]\n"
     ]
    }
   ],
   "source": [
    "closer_idx = np.where((np.sum(np.abs(x - [51.49354491805622, -2.618626674263542]), axis=1) < 0.01) & y==1)[0]\n",
    "print(closer_idx)\n",
    "x = np.delete(x, closer_idx, axis=0)\n",
    "y = np.delete(y, closer_idx)"
   ]
  },
  {
   "cell_type": "code",
   "execution_count": 36,
   "id": "controversial-struggle",
   "metadata": {},
   "outputs": [
    {
     "name": "stdout",
     "output_type": "stream",
     "text": [
      "[]\n"
     ]
    }
   ],
   "source": [
    "closer_idx = np.where((np.sum(np.abs(x - [51.49354491805622, -2.618626674263542]), axis=1) < 0.01) & y==1)[0]\n",
    "print(closer_idx)"
   ]
  },
  {
   "cell_type": "code",
   "execution_count": 37,
   "id": "outer-anniversary",
   "metadata": {},
   "outputs": [
    {
     "name": "stdout",
     "output_type": "stream",
     "text": [
      "(5509, 2)\n",
      "(5509,)\n"
     ]
    }
   ],
   "source": [
    "print(x.shape)\n",
    "print(y.shape)"
   ]
  },
  {
   "cell_type": "code",
   "execution_count": null,
   "id": "alike-bacteria",
   "metadata": {},
   "outputs": [],
   "source": []
  },
  {
   "cell_type": "code",
   "execution_count": 38,
   "id": "enhanced-humanity",
   "metadata": {},
   "outputs": [
    {
     "data": {
      "application/vnd.jupyter.widget-view+json": {
       "model_id": "1eefea1649ab4e64a9ad263448b294a5",
       "version_major": 2,
       "version_minor": 0
      },
      "text/plain": [
       "Map(center=[53, -2], controls=(ZoomControl(options=['position', 'zoom_in_text', 'zoom_in_title', 'zoom_out_tex…"
      ]
     },
     "metadata": {},
     "output_type": "display_data"
    }
   ],
   "source": [
    "from utils import ipyleaflet_heatmap_per_class\n",
    "\n",
    "m = ipyleaflet_heatmap_per_class(x, y, center=(53, -2), zoom=5.5)\n",
    "display(m)"
   ]
  },
  {
   "cell_type": "code",
   "execution_count": 39,
   "id": "average-commodity",
   "metadata": {},
   "outputs": [
    {
     "data": {
      "application/vnd.jupyter.widget-view+json": {
       "model_id": "9e0d56537d624b4dbc1fd9b5a7278120",
       "version_major": 2,
       "version_minor": 0
      },
      "text/plain": [
       "Map(center=[53, -2], controls=(ZoomControl(options=['position', 'zoom_in_text', 'zoom_in_title', 'zoom_out_tex…"
      ]
     },
     "metadata": {},
     "output_type": "display_data"
    }
   ],
   "source": [
    "from utils import ipyleaflet_scatterplot_per_class\n",
    "\n",
    "m = ipyleaflet_scatterplot_per_class(x, y, center=(53, -2), zoom=5.5, proportion=0.1)\n",
    "display(m)"
   ]
  },
  {
   "cell_type": "code",
   "execution_count": 40,
   "id": "controlled-mirror",
   "metadata": {},
   "outputs": [],
   "source": [
    "lon_local_grid = numpy.linspace(-2.70, -2.45, 500)\n",
    "lat_local_grid = numpy.linspace(51.3, 51.55, 500)\n",
    "lat_local, lon_local = numpy.meshgrid(lat_local_grid, lon_local_grid)"
   ]
  },
  {
   "cell_type": "code",
   "execution_count": 41,
   "id": "comprehensive-private",
   "metadata": {},
   "outputs": [],
   "source": [
    "local_idx = (numpy.sqrt((x[:, 0] - 51.4545) ** 2 + (x[:, 1] + 2.5879) ** 2) <= 0.1)  "
   ]
  },
  {
   "cell_type": "code",
   "execution_count": 42,
   "id": "imposed-newport",
   "metadata": {},
   "outputs": [
    {
     "data": {
      "application/vnd.jupyter.widget-view+json": {
       "model_id": "5959338052cb49fa83eb203645f6d958",
       "version_major": 2,
       "version_minor": 0
      },
      "text/plain": [
       "Map(center=[51.4545, -2.5879], controls=(ZoomControl(options=['position', 'zoom_in_text', 'zoom_in_title', 'zo…"
      ]
     },
     "metadata": {},
     "output_type": "display_data"
    }
   ],
   "source": [
    "bristol_center = (51.4545, -2.5879)\n",
    "m = ipyleaflet_scatterplot_per_class(x[local_idx], y[local_idx], center=bristol_center, zoom=11, proportion=1.0)\n",
    "display(m)"
   ]
  },
  {
   "cell_type": "code",
   "execution_count": 43,
   "id": "higher-forwarding",
   "metadata": {},
   "outputs": [],
   "source": [
    "x_local = x[local_idx, :]\n",
    "y_local = y[local_idx]\n",
    "\n",
    "xlim = (x_local[:,0].min(), x_local[:,0].max())\n",
    "ylim = (x_local[:,1].min(), x_local[:,1].max())"
   ]
  },
  {
   "cell_type": "code",
   "execution_count": 44,
   "id": "interstate-dealer",
   "metadata": {},
   "outputs": [],
   "source": [
    "from sklearn.svm import SVC\n",
    "from sklearn.linear_model import LogisticRegression\n",
    "from sklearn.neural_network import MLPClassifier\n",
    "from sklearn.tree import DecisionTreeClassifier\n",
    "from sklearn.neighbors import KNeighborsClassifier\n",
    "from sklearn.ensemble import RandomForestClassifier\n",
    "from utils import KDE"
   ]
  },
  {
   "cell_type": "code",
   "execution_count": 45,
   "id": "judicial-wages",
   "metadata": {},
   "outputs": [
    {
     "name": "stdout",
     "output_type": "stream",
     "text": [
      "Training accuracy = 0.924\n",
      "Count of predicted classes\n",
      "(array([0, 1]), array([54, 12]))\n"
     ]
    }
   ],
   "source": [
    "#mdl = SVC(probability=True)\n",
    "#mdl = SVC(gamma=1e4, C=1e4, kernel='rbf', probability=True)\n",
    "#mdl = LogisticRegression(C=1e1000, solver='liblinear', max_iter=100)\n",
    "#mdl = DecisionTreeClassifier(min_samples_leaf=7)\n",
    "#mdl = KNeighborsClassifier(n_neighbors=5)\n",
    "#mdl = RandomForestClassifier()\n",
    "mdl = KDE(bandwidth=0.01)\n",
    "mdl.fit(x[local_idx], y[local_idx])\n",
    "dump(mdl, './local_mdl.joblib')\n",
    "predicted_class_local = mdl.predict(x_local)\n",
    "print('Training accuracy = {:0.3f}'.format(np.mean(predicted_class_local == y_local)))\n",
    "print('Count of predicted classes')\n",
    "print(np.unique(predicted_class_local, return_counts=True))"
   ]
  },
  {
   "cell_type": "code",
   "execution_count": 46,
   "id": "painful-knowing",
   "metadata": {},
   "outputs": [],
   "source": [
    "p_local = mdl.predict_proba(numpy.hstack([lat_local.reshape(-1, 1), \n",
    "                                         lon_local.reshape(-1, 1)]))[:, 1].reshape(lat_local.shape[0],\n",
    "                                                                                   lon_local.shape[0])"
   ]
  },
  {
   "cell_type": "code",
   "execution_count": 47,
   "id": "equal-huntington",
   "metadata": {},
   "outputs": [
    {
     "data": {
      "text/plain": [
       "<matplotlib.colorbar.Colorbar at 0x7f3c70ee9e20>"
      ]
     },
     "execution_count": 47,
     "metadata": {},
     "output_type": "execute_result"
    }
   ],
   "source": [
    "plt.figure(dpi=128, figsize=(3, 3))\n",
    "im = plt.imshow(p_local.transpose(), origin='lower', #cmap='viridis',\n",
    "                         extent=[-2.70, -2.45, 51.3, 51.55],\n",
    "          cmap='bwr')#, vmin=0, vmax=1)\n",
    "plt.scatter(x[local_idx,1], x[local_idx,0], c=y[local_idx], edgecolors='k', cmap='bwr', s=1)\n",
    "plt.colorbar(im)"
   ]
  },
  {
   "cell_type": "code",
   "execution_count": 48,
   "id": "willing-positive",
   "metadata": {},
   "outputs": [],
   "source": [
    "isolines = [0, 0.2, 0.4, 0.5, 0.6, 0.8, 1]"
   ]
  },
  {
   "cell_type": "code",
   "execution_count": 49,
   "id": "imported-baseball",
   "metadata": {},
   "outputs": [],
   "source": [
    "from utils import mpl_scatter_contourlines"
   ]
  },
  {
   "cell_type": "code",
   "execution_count": 50,
   "id": "sublime-assistant",
   "metadata": {},
   "outputs": [],
   "source": [
    "# Extension of the largest grid\n",
    "# About full great britain \n",
    "lon_all_grid = numpy.linspace(-6, 2, 700)\n",
    "lat_all_grid = numpy.linspace(50, 58, 700)\n",
    "# Small area round Bristol\n",
    "lon_all_grid = numpy.linspace(-2.1, -3.1, 700)\n",
    "lat_all_grid = numpy.linspace(51.1, 51.7, 700)\n",
    "lat_all, lon_all = numpy.meshgrid(lat_all_grid, lon_all_grid)"
   ]
  },
  {
   "cell_type": "code",
   "execution_count": 51,
   "id": "bridal-monte",
   "metadata": {},
   "outputs": [
    {
     "data": {
      "text/plain": [
       "(array([127560,  26678,  25392,  19014,  19055,  19023,   6061,   4846,\n",
       "          1797,    574]),\n",
       " array([0.00152684, 0.08197856, 0.16243028, 0.242882  , 0.32333372,\n",
       "        0.40378544, 0.48423716, 0.56468888, 0.6451406 , 0.72559232,\n",
       "        0.80604404]))"
      ]
     },
     "execution_count": 51,
     "metadata": {},
     "output_type": "execute_result"
    }
   ],
   "source": [
    "probabilities = mdl.predict_proba(numpy.hstack([lat_local.reshape(-1, 1), \n",
    "                                                    lon_local.reshape(-1, 1)]))[:, 1].reshape(lat_local.shape[0], \n",
    "                                                                                             lon_local.shape[0])\n",
    "np.histogram(probabilities)"
   ]
  },
  {
   "cell_type": "code",
   "execution_count": 52,
   "id": "close-bullet",
   "metadata": {},
   "outputs": [],
   "source": [
    "from utils import mpl_scatter_contourf"
   ]
  },
  {
   "cell_type": "code",
   "execution_count": 53,
   "id": "genuine-dryer",
   "metadata": {},
   "outputs": [],
   "source": [
    "# TODO Can we incorporate this call into ipyleaflet_contourmap without automatic ploting?\n",
    "fig, ax, contourmap = mpl_scatter_contourf(mdl, lat_all, lon_all, x[local_idx], y[local_idx],\n",
    "                                           xlim=xlim, ylim=ylim, isolines=isolines)"
   ]
  },
  {
   "cell_type": "code",
   "execution_count": 54,
   "id": "injured-textbook",
   "metadata": {
    "scrolled": false
   },
   "outputs": [
    {
     "data": {
      "application/vnd.jupyter.widget-view+json": {
       "model_id": "7f08b703e62d46deb452f5fe944c5b94",
       "version_major": 2,
       "version_minor": 0
      },
      "text/plain": [
       "Map(center=[51.4545, -2.5879], controls=(ZoomControl(options=['position', 'zoom_in_text', 'zoom_in_title', 'zo…"
      ]
     },
     "metadata": {},
     "output_type": "display_data"
    }
   ],
   "source": [
    "from utils import reversed_colormap\n",
    "from utils import ipyleaflet_contourmap\n",
    "from branca.colormap import linear\n",
    "\n",
    "ipyleaflet_contourmap(center=bristol_center,\n",
    "                      datapoints=[x[local_idx], y[local_idx]],\n",
    "                      contourmap=contourmap,\n",
    "                      isolines=isolines,\n",
    "                      colormap=reversed_colormap(linear.RdBu_05), legend_title='Prob. Up',\n",
    "                      zoom=11, fillopacity=0.7)"
   ]
  },
  {
   "cell_type": "code",
   "execution_count": 55,
   "id": "collectible-conducting",
   "metadata": {},
   "outputs": [
    {
     "data": {
      "text/plain": [
       "GaussianMixture(covariance_type='spherical', n_components=32)"
      ]
     },
     "execution_count": 55,
     "metadata": {},
     "output_type": "execute_result"
    }
   ],
   "source": [
    "from sklearn.mixture import GaussianMixture\n",
    "\n",
    "x_local = x[local_idx, :]\n",
    "y_local = y[local_idx]\n",
    "x_back = x[~local_idx, :]\n",
    "y_back = y[~local_idx]\n",
    "\n",
    "local_gmm = GaussianMixture(n_components=4, covariance_type='spherical')\n",
    "local_gmm.fit(x_local)\n",
    "back_gmm = GaussianMixture(n_components=32, covariance_type='spherical')\n",
    "back_gmm.fit(x_back)"
   ]
  },
  {
   "cell_type": "code",
   "execution_count": 56,
   "id": "altered-character",
   "metadata": {},
   "outputs": [],
   "source": [
    "pi = numpy.array([numpy.sum(local_idx), numpy.sum(~local_idx)])\n",
    "pi = pi / numpy.sum(pi)\n",
    "\n",
    "local_d = np.exp(local_gmm.score_samples(numpy.hstack([lat_all.reshape(-1, 1), lon_all.reshape(-1, 1)])))\n",
    "back_d =  np.exp(back_gmm.score_samples(numpy.hstack([lat_all.reshape(-1, 1), lon_all.reshape(-1, 1)])))\n",
    "\n",
    "p_back = (pi[1] * back_d / (pi[1] * back_d + pi[0] * local_d)).reshape(lat_all.shape[0], lon_all.shape[0])\n",
    "p_local = 1 - p_back"
   ]
  },
  {
   "cell_type": "code",
   "execution_count": 57,
   "id": "floppy-intensity",
   "metadata": {},
   "outputs": [
    {
     "data": {
      "text/plain": [
       "(-2.6789896, -2.4918634)"
      ]
     },
     "execution_count": 57,
     "metadata": {},
     "output_type": "execute_result"
    }
   ],
   "source": [
    "import mpld3\n",
    "\n",
    "mpld3.enable_notebook()\n",
    "#isolines = np.linspace(0, 1, 100)\n",
    "fig, ax = plt.subplots(1, figsize=(12, 9))\n",
    "contourmap = ax.contourf(lat_all, lon_all,  p_local, isolines, alpha=0.8)\n",
    "ax.scatter(x[local_idx,0], x[local_idx,1], c=y[local_idx], cmap='bwr')\n",
    "fig.colorbar(contourmap, ax=ax)\n",
    "ax.set_xlim(xlim)\n",
    "ax.set_ylim(ylim)"
   ]
  },
  {
   "cell_type": "code",
   "execution_count": 58,
   "id": "egyptian-third",
   "metadata": {},
   "outputs": [
    {
     "data": {
      "application/vnd.jupyter.widget-view+json": {
       "model_id": "98a571c2dcb84fb1b1e5bd3d0113d867",
       "version_major": 2,
       "version_minor": 0
      },
      "text/plain": [
       "Map(center=[51.4545, -2.5879], controls=(ZoomControl(options=['position', 'zoom_in_text', 'zoom_in_title', 'zo…"
      ]
     },
     "metadata": {},
     "output_type": "display_data"
    }
   ],
   "source": [
    "ipyleaflet_contourmap(center=bristol_center, \n",
    "                      datapoints=[x[local_idx], y[local_idx]],\n",
    "                      contourmap=contourmap,\n",
    "                      isolines=isolines,\n",
    "                      colormap=linear.viridis, legend_title='Prob. Foreground')"
   ]
  },
  {
   "cell_type": "markdown",
   "id": "prostate-hamilton",
   "metadata": {},
   "source": [
    "# Probability of class 1 and local"
   ]
  },
  {
   "cell_type": "code",
   "execution_count": 59,
   "id": "animal-darwin",
   "metadata": {},
   "outputs": [],
   "source": [
    "prob_per_class = mdl.predict_proba(numpy.hstack([lat_all.reshape(-1, 1), \n",
    "                                                lon_all.reshape(-1, 1)]))\n",
    "\n",
    "p1 = prob_per_class[:, 1].reshape(lat_all_grid.shape[0], lon_all_grid.shape[0])\n",
    "p0 = prob_per_class[:, 0].reshape(lat_all_grid.shape[0], lon_all_grid.shape[0])\n",
    "\n",
    "p1_not_back = p1 * p_local\n",
    "p0_not_back = p0 * p_local"
   ]
  },
  {
   "cell_type": "code",
   "execution_count": 60,
   "id": "fabulous-perception",
   "metadata": {},
   "outputs": [
    {
     "data": {
      "text/plain": [
       "(-2.6789896, -2.4918634)"
      ]
     },
     "execution_count": 60,
     "metadata": {},
     "output_type": "execute_result"
    }
   ],
   "source": [
    "import mpld3\n",
    "mpld3.enable_notebook()\n",
    "fig, ax = plt.subplots(1, figsize=(12, 9))\n",
    "contourmap_c1_fg = ax.contourf(lat_all, lon_all,  p1_not_back, isolines, alpha=0.8)\n",
    "ax.scatter(x[local_idx,0], x[local_idx,1], c=y[local_idx], cmap='bwr')\n",
    "fig.colorbar(contourmap, ax=ax)\n",
    "ax.set_xlim(xlim)\n",
    "ax.set_ylim(ylim)"
   ]
  },
  {
   "cell_type": "code",
   "execution_count": 61,
   "id": "molecular-asset",
   "metadata": {},
   "outputs": [
    {
     "data": {
      "application/vnd.jupyter.widget-view+json": {
       "model_id": "c2dccd14995e4a37bda9cb8a0166fec4",
       "version_major": 2,
       "version_minor": 0
      },
      "text/plain": [
       "Map(center=[51.4545, -2.5879], controls=(ZoomControl(options=['position', 'zoom_in_text', 'zoom_in_title', 'zo…"
      ]
     },
     "metadata": {},
     "output_type": "display_data"
    }
   ],
   "source": [
    "from utils import colormap_alpha\n",
    "\n",
    "Alpha_Reds_08 = colormap_alpha(linear.Reds_08)\n",
    "\n",
    "ipyleaflet_contourmap(center=bristol_center,\n",
    "                      datapoints=[x[local_idx], y[local_idx]],\n",
    "                      contourmap=contourmap_c1_fg, \n",
    "                      isolines=isolines,\n",
    "                      colormap=Alpha_Reds_08, legend_title='Up & Foreground',\n",
    "                      fillopacity=0.7)"
   ]
  },
  {
   "cell_type": "code",
   "execution_count": 62,
   "id": "divine-perry",
   "metadata": {},
   "outputs": [
    {
     "data": {
      "text/plain": [
       "(-2.6789896, -2.4918634)"
      ]
     },
     "execution_count": 62,
     "metadata": {},
     "output_type": "execute_result"
    }
   ],
   "source": [
    "import mpld3\n",
    "mpld3.enable_notebook()\n",
    "fig, ax = plt.subplots(1, figsize=(12, 9))\n",
    "contourmap_c0_fg = ax.contourf(lat_all, lon_all,  p0_not_back, isolines, alpha=0.8)\n",
    "ax.scatter(x[local_idx,0], x[local_idx,1], c=y[local_idx], cmap='bwr')\n",
    "fig.colorbar(contourmap, ax=ax)\n",
    "ax.set_xlim(xlim)\n",
    "ax.set_ylim(ylim)"
   ]
  },
  {
   "cell_type": "code",
   "execution_count": 63,
   "id": "humanitarian-buddy",
   "metadata": {},
   "outputs": [
    {
     "data": {
      "application/vnd.jupyter.widget-view+json": {
       "model_id": "96c0c707d5d944c8a853b032d8d7b92f",
       "version_major": 2,
       "version_minor": 0
      },
      "text/plain": [
       "Map(center=[51.4545, -2.5879], controls=(ZoomControl(options=['position', 'zoom_in_text', 'zoom_in_title', 'zo…"
      ]
     },
     "metadata": {},
     "output_type": "display_data"
    }
   ],
   "source": [
    "Alpha_blues_09 = colormap_alpha(linear.Blues_09)\n",
    "\n",
    "ipyleaflet_contourmap(center=bristol_center,\n",
    "                      datapoints=[x[local_idx], y[local_idx]],\n",
    "                      contourmap=contourmap_c0_fg, \n",
    "                               isolines=isolines,\n",
    "                               colormap=Alpha_blues_09, legend_title='Dn & Foreground')"
   ]
  },
  {
   "cell_type": "code",
   "execution_count": 64,
   "id": "native-batch",
   "metadata": {},
   "outputs": [
    {
     "data": {
      "application/vnd.jupyter.widget-view+json": {
       "model_id": "97ecd3807e9f42398fc3b3413e8503d9",
       "version_major": 2,
       "version_minor": 0
      },
      "text/plain": [
       "Map(center=[51.4545, -2.5879], controls=(ZoomControl(options=['position', 'zoom_in_text', 'zoom_in_title', 'zo…"
      ]
     },
     "metadata": {},
     "output_type": "display_data"
    }
   ],
   "source": [
    "Alpha_Reds_08 = colormap_alpha(linear.Reds_08)\n",
    "m = ipyleaflet_contourmap(center=bristol_center, \n",
    "                          datapoints=None,\n",
    "                          contourmap=contourmap_c1_fg,\n",
    "                      isolines=isolines,\n",
    "                      colormap=Alpha_Reds_08, legend_title='Up & Foreground')\n",
    "\n",
    "Alpha_blues_09 = colormap_alpha(linear.Blues_09)\n",
    "ipyleaflet_contourmap(center=bristol_center, \n",
    "                      datapoints=[x[local_idx], y[local_idx]],\n",
    "                      contourmap=contourmap_c0_fg, \n",
    "                               isolines=isolines,\n",
    "                               colormap=Alpha_blues_09, legend_title='Dn & Foreground',\n",
    "                      m=m)"
   ]
  },
  {
   "cell_type": "code",
   "execution_count": null,
   "id": "afraid-container",
   "metadata": {},
   "outputs": [],
   "source": []
  },
  {
   "cell_type": "code",
   "execution_count": null,
   "id": "heated-colorado",
   "metadata": {},
   "outputs": [],
   "source": []
  }
 ],
 "metadata": {
  "kernelspec": {
   "display_name": "Python 3",
   "language": "python",
   "name": "python3"
  },
  "language_info": {
   "codemirror_mode": {
    "name": "ipython",
    "version": 3
   },
   "file_extension": ".py",
   "mimetype": "text/x-python",
   "name": "python",
   "nbconvert_exporter": "python",
   "pygments_lexer": "ipython3",
   "version": "3.8.5"
  }
 },
 "nbformat": 4,
 "nbformat_minor": 5
}
