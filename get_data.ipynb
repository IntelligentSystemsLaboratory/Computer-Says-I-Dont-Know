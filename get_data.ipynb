{
 "cells": [
  {
   "cell_type": "code",
   "execution_count": 1,
   "id": "numerical-magic",
   "metadata": {},
   "outputs": [],
   "source": [
    "import pandas\n",
    "import time\n",
    "import urllib\n",
    "import os\n",
    "from pathlib import Path\n",
    "import geopy\n",
    "import numpy"
   ]
  },
  {
   "cell_type": "code",
   "execution_count": 2,
   "id": "facial-shanghai",
   "metadata": {
    "scrolled": false
   },
   "outputs": [
    {
     "name": "stdout",
     "output_type": "stream",
     "text": [
      "=======================================\n",
      "E12000001\n",
      "done\n",
      "=======================================\n",
      "E12000002\n",
      "done\n",
      "=======================================\n",
      "E12000003\n",
      "done\n",
      "=======================================\n",
      "E12000004\n",
      "done\n",
      "=======================================\n",
      "E12000005\n",
      "done\n",
      "=======================================\n",
      "E12000006\n",
      "done\n",
      "=======================================\n",
      "E12000007\n",
      "done\n",
      "=======================================\n",
      "E12000008\n",
      "done\n",
      "=======================================\n",
      "E12000009\n",
      "done\n"
     ]
    }
   ],
   "source": [
    "dataset_path = './data/'\n",
    "\n",
    "Path(dataset_path).mkdir(parents=True, exist_ok=True)\n",
    "\n",
    "for i in range(1, 10):\n",
    "    tmp_code = 'E1200000' + str(i)\n",
    "    print('=======================================')\n",
    "    print(tmp_code)\n",
    "    try:\n",
    "        response = urllib.request.urlopen('https://api.coronavirus.data.gov.uk/v2/data?areaType=msoa&areaCode=' + tmp_code + '&metric=newCasesBySpecimenDateRollingSum&metric=newCasesBySpecimenDateRollingRate&metric=newCasesBySpecimenDateChange&metric=newCasesBySpecimenDateChangePercentage&metric=newCasesBySpecimenDateDirection&format=csv')\n",
    "        with open(os.path.join(dataset_path, tmp_code + '.csv'), 'wb') as temp_file:\n",
    "            temp_file.write(response.read())\n",
    "        print('done')\n",
    "    except:\n",
    "        print('no file')"
   ]
  },
  {
   "cell_type": "code",
   "execution_count": 3,
   "id": "irish-shower",
   "metadata": {},
   "outputs": [
    {
     "name": "stdout",
     "output_type": "stream",
     "text": [
      "Available dates in file E12000001\n",
      "['2021-02-17' '2021-02-10' '2021-02-03' '2021-01-27' '2021-01-20'\n",
      " '2021-01-13' '2021-01-06' '2020-12-30' '2020-12-23' '2020-12-16'\n",
      " '2020-12-09' '2020-12-02' '2020-11-25' '2020-11-18' '2020-11-11'\n",
      " '2020-11-04' '2020-10-28' '2020-10-21' '2020-10-14' '2020-10-07'\n",
      " '2020-09-30' '2020-09-23' '2020-09-16' '2020-09-09' '2020-09-02'\n",
      " '2020-08-26']\n",
      "Number of instances with the required date: 0\n",
      "Available dates in file E12000002\n",
      "['2021-02-17' '2021-02-10' '2021-02-03' '2021-01-27' '2021-01-20'\n",
      " '2021-01-13' '2021-01-06' '2020-12-30' '2020-12-23' '2020-12-16'\n",
      " '2020-12-09' '2020-12-02' '2020-11-25' '2020-11-18' '2020-11-11'\n",
      " '2020-11-04' '2020-10-28' '2020-10-21' '2020-10-14' '2020-10-07'\n",
      " '2020-09-30' '2020-09-23' '2020-09-16' '2020-09-09' '2020-09-02'\n",
      " '2020-08-26']\n",
      "Number of instances with the required date: 0\n",
      "Available dates in file E12000003\n",
      "['2021-02-17' '2021-02-10' '2021-02-03' '2021-01-27' '2021-01-20'\n",
      " '2021-01-13' '2021-01-06' '2020-12-30' '2020-12-23' '2020-12-16'\n",
      " '2020-12-09' '2020-12-02' '2020-11-25' '2020-11-18' '2020-11-11'\n",
      " '2020-11-04' '2020-10-28' '2020-10-21' '2020-10-14' '2020-10-07'\n",
      " '2020-09-30' '2020-09-23' '2020-09-16' '2020-09-09' '2020-09-02'\n",
      " '2020-08-26']\n",
      "Number of instances with the required date: 0\n",
      "Available dates in file E12000004\n",
      "['2021-02-17' '2021-02-10' '2021-02-03' '2021-01-27' '2021-01-20'\n",
      " '2021-01-13' '2021-01-06' '2020-12-30' '2020-12-23' '2020-12-16'\n",
      " '2020-12-09' '2020-12-02' '2020-11-25' '2020-11-18' '2020-11-11'\n",
      " '2020-11-04' '2020-10-28' '2020-10-21' '2020-10-14' '2020-10-07'\n",
      " '2020-09-30' '2020-09-23' '2020-09-16' '2020-09-09' '2020-09-02'\n",
      " '2020-08-26']\n",
      "Number of instances with the required date: 0\n",
      "Available dates in file E12000005\n",
      "['2021-02-17' '2021-02-10' '2021-02-03' '2021-01-27' '2021-01-20'\n",
      " '2021-01-13' '2021-01-06' '2020-12-30' '2020-12-23' '2020-12-16'\n",
      " '2020-12-09' '2020-12-02' '2020-11-25' '2020-11-18' '2020-11-11'\n",
      " '2020-11-04' '2020-10-28' '2020-10-21' '2020-10-14' '2020-10-07'\n",
      " '2020-09-30' '2020-09-23' '2020-09-16' '2020-09-09' '2020-09-02'\n",
      " '2020-08-26']\n",
      "Number of instances with the required date: 0\n",
      "Available dates in file E12000006\n",
      "['2021-02-17' '2021-02-10' '2021-02-03' '2021-01-27' '2021-01-20'\n",
      " '2021-01-13' '2021-01-06' '2020-12-30' '2020-12-23' '2020-12-16'\n",
      " '2020-12-09' '2020-12-02' '2020-11-25' '2020-11-18' '2020-11-11'\n",
      " '2020-11-04' '2020-10-28' '2020-10-21' '2020-10-14' '2020-10-07'\n",
      " '2020-09-30' '2020-09-23' '2020-09-16' '2020-09-09' '2020-09-02'\n",
      " '2020-08-26']\n",
      "Number of instances with the required date: 0\n",
      "Available dates in file E12000007\n",
      "['2021-02-17' '2021-02-10' '2021-02-03' '2021-01-27' '2021-01-20'\n",
      " '2021-01-13' '2021-01-06' '2020-12-30' '2020-12-23' '2020-12-16'\n",
      " '2020-12-09' '2020-12-02' '2020-11-25' '2020-11-18' '2020-11-11'\n",
      " '2020-11-04' '2020-10-28' '2020-10-21' '2020-10-14' '2020-10-07'\n",
      " '2020-09-30' '2020-09-23' '2020-09-16' '2020-09-09' '2020-09-02'\n",
      " '2020-08-26']\n",
      "Number of instances with the required date: 0\n",
      "Available dates in file E12000008\n",
      "['2021-02-17' '2021-02-10' '2021-02-03' '2021-01-27' '2021-01-20'\n",
      " '2021-01-13' '2021-01-06' '2020-12-30' '2020-12-23' '2020-12-16'\n",
      " '2020-12-09' '2020-12-02' '2020-11-25' '2020-11-18' '2020-11-11'\n",
      " '2020-11-04' '2020-10-28' '2020-10-21' '2020-10-14' '2020-10-07'\n",
      " '2020-09-30' '2020-09-23' '2020-09-16' '2020-09-09' '2020-09-02'\n",
      " '2020-08-26']\n",
      "Number of instances with the required date: 0\n",
      "Available dates in file E12000009\n",
      "['2021-02-17' '2021-02-10' '2021-02-03' '2021-01-27' '2021-01-20'\n",
      " '2021-01-13' '2021-01-06' '2020-12-30' '2020-12-23' '2020-12-16'\n",
      " '2020-12-09' '2020-12-02' '2020-11-25' '2020-11-18' '2020-11-11'\n",
      " '2020-11-04' '2020-10-28' '2020-10-21' '2020-10-14' '2020-10-07'\n",
      " '2020-09-30' '2020-09-23' '2020-09-16' '2020-09-09' '2020-09-02'\n",
      " '2020-08-26']\n",
      "Number of instances with the required date: 0\n"
     ]
    }
   ],
   "source": [
    "x = []\n",
    "y = []\n",
    "for i in range(1, 10):\n",
    "    tmp_code = 'E1200000' + str(i)\n",
    "    tmp_table = pandas.read_csv(os.path.join(dataset_path, tmp_code + '.csv'))\n",
    "    tmp_region = tmp_table[tmp_table['date']=='2021-02-01'].reset_index()\n",
    "    print('Available dates in file {}'.format(tmp_code))\n",
    "    print(tmp_table['date'].unique())\n",
    "    print('Number of instances with the required date: {}'.format(numpy.shape(tmp_region)[0]))\n",
    "    for i in range(0, numpy.shape(tmp_region)[0]):\n",
    "        u_name = tmp_region['UtlaName'][i].split(',')[0].split('&')[0]\n",
    "        a_name = tmp_region['areaName'][i].split(',')[0].split('&')[0]\n",
    "        geolocator = geopy.geocoders.Nominatim(user_agent='UoB-ISL')\n",
    "        location = geolocator.geocode(a_name + ',' + u_name + ',' + 'England')\n",
    "        if location is None:\n",
    "            pass\n",
    "        else:\n",
    "            print(location.address)\n",
    "            x.append(numpy.array([location.latitude, location.longitude]))\n",
    "            if tmp_region['newCasesBySpecimenDateDirection'][i] == 'UP':\n",
    "                y.append(1)\n",
    "            else:\n",
    "                y.append(0)"
   ]
  },
  {
   "cell_type": "code",
   "execution_count": 4,
   "id": "focused-manchester",
   "metadata": {},
   "outputs": [
    {
     "ename": "ValueError",
     "evalue": "need at least one array to concatenate",
     "output_type": "error",
     "traceback": [
      "\u001b[0;31m---------------------------------------------------------------------------\u001b[0m",
      "\u001b[0;31mValueError\u001b[0m                                Traceback (most recent call last)",
      "\u001b[0;32m<ipython-input-4-03250cec9f93>\u001b[0m in \u001b[0;36m<module>\u001b[0;34m\u001b[0m\n\u001b[0;32m----> 1\u001b[0;31m \u001b[0mx\u001b[0m \u001b[0;34m=\u001b[0m \u001b[0mnumpy\u001b[0m\u001b[0;34m.\u001b[0m\u001b[0mvstack\u001b[0m\u001b[0;34m(\u001b[0m\u001b[0mx\u001b[0m\u001b[0;34m)\u001b[0m\u001b[0;34m\u001b[0m\u001b[0;34m\u001b[0m\u001b[0m\n\u001b[0m\u001b[1;32m      2\u001b[0m \u001b[0my\u001b[0m \u001b[0;34m=\u001b[0m \u001b[0mnumpy\u001b[0m\u001b[0;34m.\u001b[0m\u001b[0marray\u001b[0m\u001b[0;34m(\u001b[0m\u001b[0my\u001b[0m\u001b[0;34m)\u001b[0m\u001b[0;34m\u001b[0m\u001b[0;34m\u001b[0m\u001b[0m\n\u001b[1;32m      3\u001b[0m \u001b[0mnumpy\u001b[0m\u001b[0;34m.\u001b[0m\u001b[0msave\u001b[0m\u001b[0;34m(\u001b[0m\u001b[0;34m'./data/x.npy'\u001b[0m\u001b[0;34m,\u001b[0m \u001b[0mx\u001b[0m\u001b[0;34m)\u001b[0m\u001b[0;34m\u001b[0m\u001b[0;34m\u001b[0m\u001b[0m\n\u001b[1;32m      4\u001b[0m \u001b[0mnumpy\u001b[0m\u001b[0;34m.\u001b[0m\u001b[0msave\u001b[0m\u001b[0;34m(\u001b[0m\u001b[0;34m'./data/y.npy'\u001b[0m\u001b[0;34m,\u001b[0m \u001b[0my\u001b[0m\u001b[0;34m)\u001b[0m\u001b[0;34m\u001b[0m\u001b[0;34m\u001b[0m\u001b[0m\n",
      "\u001b[0;32m<__array_function__ internals>\u001b[0m in \u001b[0;36mvstack\u001b[0;34m(*args, **kwargs)\u001b[0m\n",
      "\u001b[0;32m~/git/computer_says_i_dont_know/venv/lib/python3.8/site-packages/numpy/core/shape_base.py\u001b[0m in \u001b[0;36mvstack\u001b[0;34m(tup)\u001b[0m\n\u001b[1;32m    281\u001b[0m     \u001b[0;32mif\u001b[0m \u001b[0;32mnot\u001b[0m \u001b[0misinstance\u001b[0m\u001b[0;34m(\u001b[0m\u001b[0marrs\u001b[0m\u001b[0;34m,\u001b[0m \u001b[0mlist\u001b[0m\u001b[0;34m)\u001b[0m\u001b[0;34m:\u001b[0m\u001b[0;34m\u001b[0m\u001b[0;34m\u001b[0m\u001b[0m\n\u001b[1;32m    282\u001b[0m         \u001b[0marrs\u001b[0m \u001b[0;34m=\u001b[0m \u001b[0;34m[\u001b[0m\u001b[0marrs\u001b[0m\u001b[0;34m]\u001b[0m\u001b[0;34m\u001b[0m\u001b[0;34m\u001b[0m\u001b[0m\n\u001b[0;32m--> 283\u001b[0;31m     \u001b[0;32mreturn\u001b[0m \u001b[0m_nx\u001b[0m\u001b[0;34m.\u001b[0m\u001b[0mconcatenate\u001b[0m\u001b[0;34m(\u001b[0m\u001b[0marrs\u001b[0m\u001b[0;34m,\u001b[0m \u001b[0;36m0\u001b[0m\u001b[0;34m)\u001b[0m\u001b[0;34m\u001b[0m\u001b[0;34m\u001b[0m\u001b[0m\n\u001b[0m\u001b[1;32m    284\u001b[0m \u001b[0;34m\u001b[0m\u001b[0m\n\u001b[1;32m    285\u001b[0m \u001b[0;34m\u001b[0m\u001b[0m\n",
      "\u001b[0;32m<__array_function__ internals>\u001b[0m in \u001b[0;36mconcatenate\u001b[0;34m(*args, **kwargs)\u001b[0m\n",
      "\u001b[0;31mValueError\u001b[0m: need at least one array to concatenate"
     ]
    }
   ],
   "source": [
    "x = numpy.vstack(x)\n",
    "y = numpy.array(y)\n",
    "numpy.save('./data/x.npy', x)\n",
    "numpy.save('./data/y.npy', y)"
   ]
  },
  {
   "cell_type": "code",
   "execution_count": null,
   "id": "motivated-plaintiff",
   "metadata": {},
   "outputs": [],
   "source": []
  }
 ],
 "metadata": {
  "kernelspec": {
   "display_name": "Python 3",
   "language": "python",
   "name": "python3"
  },
  "language_info": {
   "codemirror_mode": {
    "name": "ipython",
    "version": 3
   },
   "file_extension": ".py",
   "mimetype": "text/x-python",
   "name": "python",
   "nbconvert_exporter": "python",
   "pygments_lexer": "ipython3",
   "version": "3.8.5"
  }
 },
 "nbformat": 4,
 "nbformat_minor": 5
}
