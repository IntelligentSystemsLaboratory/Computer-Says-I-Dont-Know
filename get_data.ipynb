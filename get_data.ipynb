{
 "cells": [
  {
   "cell_type": "code",
   "execution_count": 15,
   "id": "numerical-magic",
   "metadata": {},
   "outputs": [],
   "source": [
    "import pandas\n",
    "import time\n",
    "import urllib\n",
    "import os\n",
    "import geopy"
   ]
  },
  {
   "cell_type": "code",
   "execution_count": null,
   "id": "facial-shanghai",
   "metadata": {
    "scrolled": true
   },
   "outputs": [
    {
     "name": "stdout",
     "output_type": "stream",
     "text": [
      "=======================================\n",
      "E12000001\n",
      "done\n",
      "=======================================\n",
      "E12000002\n",
      "done\n",
      "=======================================\n",
      "E12000003\n",
      "done\n",
      "=======================================\n",
      "E12000004\n",
      "done\n",
      "=======================================\n",
      "E12000005\n",
      "done\n",
      "=======================================\n",
      "E12000006\n",
      "done\n",
      "=======================================\n",
      "E12000007\n",
      "done\n",
      "=======================================\n",
      "E12000008\n",
      "done\n",
      "=======================================\n",
      "E12000009\n",
      "done\n"
     ]
    }
   ],
   "source": [
    "for i in range(1, 10):\n",
    "    tmp_code = 'E1200000' + str(i)\n",
    "    print('=======================================')\n",
    "    print(tmp_code)\n",
    "    try:\n",
    "        response = urllib.request.urlopen('https://api.coronavirus.data.gov.uk/v2/data?areaType=msoa&areaCode=' + tmp_code + '&metric=newCasesBySpecimenDateRollingSum&metric=newCasesBySpecimenDateRollingRate&metric=newCasesBySpecimenDateChange&metric=newCasesBySpecimenDateChangePercentage&metric=newCasesBySpecimenDateDirection&format=csv')\n",
    "        with open('./data/' + tmp_code + '.csv', 'wb') as temp_file:\n",
    "            temp_file.write(response.read())\n",
    "        print('done')\n",
    "    except:\n",
    "        print('no file')\n",
    "    time.sleep(15)"
   ]
  },
  {
   "cell_type": "code",
   "execution_count": null,
   "id": "spiritual-abortion",
   "metadata": {},
   "outputs": [],
   "source": [
    "file_list = os.listdir('./data/')"
   ]
  },
  {
   "cell_type": "code",
   "execution_count": null,
   "id": "irish-shower",
   "metadata": {},
   "outputs": [],
   "source": [
    "x = []\n",
    "y = []\n",
    "for i in range(0, len(file_list)):\n",
    "    tmp_file = file_list[i]\n",
    "    tmp_table = pandas.read_csv('./data/full_set/' + tmp_file)\n",
    "    tmp_region = tmp_table[tmp_table['date']=='2021-02-01'].reset_index()\n",
    "    print(numpy.shape(tmp_region))\n",
    "    for i in range(0, numpy.shape(tmp_region)[0]):\n",
    "        u_name = tmp_region['UtlaName'][i].split(',')[0].split('&')[0]\n",
    "        a_name = tmp_region['areaName'][i].split(',')[0].split('&')[0]\n",
    "        geolocator = geopy.geocoders.Nominatim(user_agent='UoB-ISL')\n",
    "        location = geolocator.geocode(a_name + ',' + u_name + ',' + 'England')\n",
    "        if location is None:\n",
    "            pass\n",
    "        else:\n",
    "            print(location.address)\n",
    "            x.append(numpy.array([location.latitude, location.longitude]))\n",
    "            if tmp_region['newCasesBySpecimenDateDirection'][i] == 'UP':\n",
    "                y.append(1)\n",
    "            else:\n",
    "                y.append(0)"
   ]
  },
  {
   "cell_type": "code",
   "execution_count": null,
   "id": "focused-manchester",
   "metadata": {},
   "outputs": [],
   "source": [
    "x = numpy.vstack(x)\n",
    "y = numpy.array(y)\n",
    "numpy.save('./data/x.npy', x)\n",
    "numpy.save('./data/y.npy', y)"
   ]
  }
 ],
 "metadata": {
  "kernelspec": {
   "display_name": "Python 3",
   "language": "python",
   "name": "python3"
  },
  "language_info": {
   "codemirror_mode": {
    "name": "ipython",
    "version": 3
   },
   "file_extension": ".py",
   "mimetype": "text/x-python",
   "name": "python",
   "nbconvert_exporter": "python",
   "pygments_lexer": "ipython3",
   "version": "3.7.9"
  }
 },
 "nbformat": 4,
 "nbformat_minor": 5
}
