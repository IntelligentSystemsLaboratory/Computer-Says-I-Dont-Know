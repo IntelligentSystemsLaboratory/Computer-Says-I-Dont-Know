{
 "cells": [
  {
   "cell_type": "code",
   "execution_count": 1,
   "id": "aquatic-ukraine",
   "metadata": {
    "collapsed": true,
    "slideshow": {
     "slide_type": "skip"
    }
   },
   "outputs": [
    {
     "data": {
      "text/plain": [
       "{'minScale': 1.25, 'width': '80%', 'transition': 'none'}"
      ]
     },
     "execution_count": 1,
     "metadata": {},
     "output_type": "execute_result"
    }
   ],
   "source": [
    "# Setup Reveal.JS\n",
    "from traitlets.config.manager import BaseJSONConfigManager\n",
    "from pathlib import Path\n",
    "path = Path.home() / \".jupyter\" / \"nbconfig\"\n",
    "cm = BaseJSONConfigManager(config_dir=str(path))\n",
    "# ipyleaflet hack to load full map in Reveal.js\n",
    "# These settings are also injected into the notebook metadata\n",
    "# (Edit -> Edit Notebook Metadata), which is the preferred method\n",
    "cm.update(\n",
    "    \"rise\",\n",
    "    {\"minScale\": 1.25,\n",
    "     \"width\": \"80%\",\n",
    "     \"transition\": \"none\"}\n",
    ")"
   ]
  },
  {
   "cell_type": "markdown",
   "id": "finite-greece",
   "metadata": {
    "slideshow": {
     "slide_type": "slide"
    }
   },
   "source": [
    "# Computer says \"I Don't Know\"\n",
    "## The case for Honest AI\n",
    "\n",
    "Peter Flach, University of Bristol and Alan Turing Institute, UK\n",
    "\n",
    "[flach.github.io](https://flach.github.io)\n"
   ]
  },
  {
   "cell_type": "markdown",
   "id": "bronze-flexibility",
   "metadata": {
    "slideshow": {
     "slide_type": "subslide"
    }
   },
   "source": [
    "Would you consider it newsworthy if a human passes a multiple-choice test? \n",
    "\n",
    "<img width=50% align=\"right\" src=\"mc.jpg\" alt=\"credit: https://www.learningscientists.org/blog/2017/10/10-1\">"
   ]
  },
  {
   "cell_type": "markdown",
   "id": "still-municipality",
   "metadata": {
    "slideshow": {
     "slide_type": "fragment"
    }
   },
   "source": [
    "**Probably not.**\n"
   ]
  },
  {
   "cell_type": "markdown",
   "id": "boring-divide",
   "metadata": {
    "slideshow": {
     "slide_type": "subslide"
    }
   },
   "source": [
    "Yet multiple-choice tests are behind many AI successes reported in the media, leading to recent headlines such as "
   ]
  },
  {
   "cell_type": "markdown",
   "id": "meaningful-digest",
   "metadata": {
    "slideshow": {
     "slide_type": "fragment"
    }
   },
   "source": [
    "- Researchers taught an AI to recognize smells!"
   ]
  },
  {
   "cell_type": "markdown",
   "id": "legislative-extraction",
   "metadata": {
    "slideshow": {
     "slide_type": "fragment"
    }
   },
   "source": [
    "- AI Trained on Old Scientific Papers Makes Discoveries Humans Missed!"
   ]
  },
  {
   "cell_type": "markdown",
   "id": "quarterly-clark",
   "metadata": {
    "slideshow": {
     "slide_type": "fragment"
    }
   },
   "source": [
    "- AI learns to recognize nerve cells!"
   ]
  },
  {
   "cell_type": "markdown",
   "id": "covered-confusion",
   "metadata": {
    "slideshow": {
     "slide_type": "subslide"
    }
   },
   "source": [
    "We are told that \"AI passed the test\" or \"the algorithm worked\" --\n",
    "\n",
    "<img width=30% align=\"right\" align=\"bottom\" src=\"pass.jpg\" alt=\"credit: TODO\">"
   ]
  },
  {
   "cell_type": "markdown",
   "id": "powerful-printer",
   "metadata": {
    "slideshow": {
     "slide_type": "fragment"
    }
   },
   "source": [
    "- but what exactly does that mean?"
   ]
  },
  {
   "cell_type": "markdown",
   "id": "higher-addiction",
   "metadata": {
    "slideshow": {
     "slide_type": "fragment"
    }
   },
   "source": [
    "**Who sets the exam, and what is the passing grade?**"
   ]
  },
  {
   "cell_type": "markdown",
   "id": "accomplished-strengthening",
   "metadata": {
    "slideshow": {
     "slide_type": "subslide"
    }
   },
   "source": [
    "# The case for Honest AI\n",
    "\n",
    "In this talk I will discuss why performance evaluation is not something that can be easily summarised in a catchy headline -- neither for humans nor for machines. \n",
    "\n",
    "Furthermore, I will argue why it is imperative that AI algorithms become more *honest* about their own abilities.\n",
    "\n",
    "<img width=25% align=\"right\" align=\"bottom\" src=\"honest.png\" alt=\"credit: TODO\">"
   ]
  },
  {
   "cell_type": "markdown",
   "id": "divine-monitoring",
   "metadata": {
    "slideshow": {
     "slide_type": "subslide"
    }
   },
   "source": [
    "# Ways to be honest\n",
    "\n",
    "- Quantifying the uncertainty in predictions like weather forecasters do would be a good start.\n",
    "  - E.g., saying \"the chance of rain is 70%\" rather than \"it will rain\"."
   ]
  },
  {
   "cell_type": "markdown",
   "id": "flying-charm",
   "metadata": {
    "slideshow": {
     "slide_type": "fragment"
    }
   },
   "source": [
    "- Quantifying the uncertainty in that chance estimate would be even better. \n",
    "  - Am I confident that 70% is close to the right number, or did I just guess that on the basis of the last three days?"
   ]
  },
  {
   "cell_type": "markdown",
   "id": "emerging-convertible",
   "metadata": {
    "slideshow": {
     "slide_type": "subslide"
    }
   },
   "source": [
    "# Computer says \"I don't know\"\n",
    "\n",
    "But what would really demonstrate an AI algorithm's awareness of its own strengths *and* limitations is if it would occasionally say **\"I don't know\"** --\n",
    "- something that not many contemporary AI algorithms and machine-learned classifiers do;\n",
    "- often leading to problems with \"adversarial examples\" which are doctored to mislead the algorithm. "
   ]
  },
  {
   "cell_type": "markdown",
   "id": "twelve-parts",
   "metadata": {
    "slideshow": {
     "slide_type": "subslide"
    }
   },
   "source": [
    "I will discuss in an accessible way how this arises due to a focus on *discriminative learning*, and how recent research has developed ways to overcome this, allowing AI and machine learning to become more **honest and aware of their own limitations**.  \n",
    "\n",
    "<img width=50% align=\"right\" src=\"lb.jpg\">"
   ]
  },
  {
   "cell_type": "markdown",
   "id": "modified-estonia",
   "metadata": {
    "slideshow": {
     "slide_type": "slide"
    }
   },
   "source": [
    "# AI in the time of Corona\n",
    "\n"
   ]
  },
  {
   "cell_type": "markdown",
   "id": "induced-jason",
   "metadata": {
    "slideshow": {
     "slide_type": "subslide"
    }
   },
   "source": [
    "# UK map with up/down Covid data here"
   ]
  },
  {
   "cell_type": "markdown",
   "id": "transparent-premises",
   "metadata": {
    "slideshow": {
     "slide_type": "subslide"
    }
   },
   "source": [
    "# Bristol map with up/down Covid data here"
   ]
  }
 ],
 "metadata": {
  "celltoolbar": "Slideshow",
  "kernelspec": {
   "display_name": "Python 3",
   "language": "python",
   "name": "python3"
  },
  "language_info": {
   "codemirror_mode": {
    "name": "ipython",
    "version": 3
   },
   "file_extension": ".py",
   "mimetype": "text/x-python",
   "name": "python",
   "nbconvert_exporter": "python",
   "pygments_lexer": "ipython3",
   "version": "3.8.8"
  },
  "rise": {
   "minScale": 1.25,
   "transition": "none",
   "width": "80%"
  }
 },
 "nbformat": 4,
 "nbformat_minor": 5
}
