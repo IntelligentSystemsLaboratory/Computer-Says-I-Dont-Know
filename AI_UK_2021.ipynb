{
 "cells": [
  {
   "cell_type": "code",
   "execution_count": 1,
   "id": "aquatic-ukraine",
   "metadata": {
    "slideshow": {
     "slide_type": "skip"
    }
   },
   "outputs": [],
   "source": [
    "# Setup Reveal.JS\n",
    "from traitlets.config.manager import BaseJSONConfigManager\n",
    "from pathlib import Path\n",
    "path = Path.home() / \".jupyter\" / \"nbconfig\"\n",
    "cm = BaseJSONConfigManager(config_dir=str(path))\n",
    "# ipyleaflet hack to load full map in Reveal.js\n",
    "# These settings are also injected into the notebook metadata\n",
    "# (Edit -> Edit Notebook Metadata), which is the preferred method\n",
    "cm.update(\n",
    "    \"rise\",\n",
    "    {\"minScale\": 1.25,\n",
    "     \"width\": \"80%\",\n",
    "     \"transition\": \"none\",\n",
    "     #\"start_slideshow_at\": \"beginning\",\n",
    "     #\"auto_select\": \"none\",\n",
    "     #\"autolaunch\": \"true\"\n",
    "    }\n",
    ")\n",
    "\n",
    "import numpy as np\n",
    "np.random.seed(42)"
   ]
  },
  {
   "cell_type": "markdown",
   "id": "finite-greece",
   "metadata": {
    "slideshow": {
     "slide_type": "slide"
    }
   },
   "source": [
    "# Computer says \"I Don't Know\"\n",
    "\n",
    "<img width=35% align=\"right\" src=\"PeterCartoon-square.jpg\">\n",
    "\n",
    "## The case for Honest AI\n",
    "\n",
    "Peter Flach, University of Bristol and Alan Turing Institute, UK\n",
    "\n",
    "[flach.github.io](https://flach.github.io)"
   ]
  },
  {
   "cell_type": "markdown",
   "id": "bronze-flexibility",
   "metadata": {
    "slideshow": {
     "slide_type": "subslide"
    }
   },
   "source": [
    "Would you consider it newsworthy if a human passes a multiple-choice test? \n",
    "\n",
    "<img width=50% align=\"right\" src=\"mc.jpg\" alt=\"credit: https://www.learningscientists.org/blog/2017/10/10-1\">"
   ]
  },
  {
   "cell_type": "markdown",
   "id": "still-municipality",
   "metadata": {
    "slideshow": {
     "slide_type": "fragment"
    }
   },
   "source": [
    "✓ **Probably not.**\n"
   ]
  },
  {
   "cell_type": "markdown",
   "id": "boring-divide",
   "metadata": {
    "slideshow": {
     "slide_type": "subslide"
    }
   },
   "source": [
    "Yet multiple-choice tests are behind many AI successes reported in the media, leading to recent headlines such as "
   ]
  },
  {
   "cell_type": "markdown",
   "id": "meaningful-digest",
   "metadata": {
    "slideshow": {
     "slide_type": "fragment"
    }
   },
   "source": [
    "<p>&#128478; Researchers taught an AI to recognize smells!</p"
   ]
  },
  {
   "cell_type": "markdown",
   "id": "legislative-extraction",
   "metadata": {
    "slideshow": {
     "slide_type": "fragment"
    }
   },
   "source": [
    "<p>&#128478; AI Trained on Old Scientific Papers Makes Discoveries Humans Missed!</p>"
   ]
  },
  {
   "cell_type": "markdown",
   "id": "quarterly-clark",
   "metadata": {
    "slideshow": {
     "slide_type": "fragment"
    }
   },
   "source": [
    "<p>&#128478; AI learns to recognize nerve cells!</p>"
   ]
  },
  {
   "cell_type": "markdown",
   "id": "covered-confusion",
   "metadata": {
    "slideshow": {
     "slide_type": "subslide"
    }
   },
   "source": [
    "We are told that \"AI passed the test\" or \"the algorithm worked\" --\n",
    "\n",
    "<img width=30% align=\"right\" align=\"bottom\" src=\"pass.jpg\" alt=\"credit: TODO\">"
   ]
  },
  {
   "cell_type": "markdown",
   "id": "powerful-printer",
   "metadata": {
    "slideshow": {
     "slide_type": "fragment"
    }
   },
   "source": [
    "- but what exactly does that mean?"
   ]
  },
  {
   "cell_type": "markdown",
   "id": "higher-addiction",
   "metadata": {
    "slideshow": {
     "slide_type": "fragment"
    }
   },
   "source": [
    "**Who sets the exam, and what is the passing grade?**"
   ]
  },
  {
   "cell_type": "markdown",
   "id": "accomplished-strengthening",
   "metadata": {
    "slideshow": {
     "slide_type": "subslide"
    }
   },
   "source": [
    "# The case for Honest AI\n",
    "\n",
    "In this talk I will discuss why performance evaluation is not something that can be easily summarised in a catchy headline -- neither for humans nor for machines. \n",
    "\n",
    "Furthermore, I will argue why it is imperative that AI algorithms become more *honest* about their own abilities.\n",
    "\n",
    "<img width=25% align=\"right\" align=\"bottom\" src=\"honest.png\" alt=\"credit: TODO\">"
   ]
  },
  {
   "cell_type": "markdown",
   "id": "divine-monitoring",
   "metadata": {
    "slideshow": {
     "slide_type": "subslide"
    }
   },
   "source": [
    "Quantifying the **uncertainty** in predictions would be a good start.\n",
    "- E.g., saying \"the chance of rain is 60%\" rather than \"it will rain\".\n",
    "  \n",
    "<img width=60% align=\"right\" src=\"weather.jpg\" alt=\"credit: Met Office\">"
   ]
  },
  {
   "cell_type": "markdown",
   "id": "flying-charm",
   "metadata": {
    "slideshow": {
     "slide_type": "fragment"
    }
   },
   "source": [
    "Quantifying the uncertainty in that chance estimate would be even better. \n",
    "- Is it really 60%, or could it also be 40% or 80%?"
   ]
  },
  {
   "cell_type": "markdown",
   "id": "emerging-convertible",
   "metadata": {
    "slideshow": {
     "slide_type": "subslide"
    }
   },
   "source": [
    "# Computer says \"I don't know\"\n",
    "\n",
    "But what would really demonstrate an AI algorithm's awareness of its own strengths *and* limitations is if it would occasionally say **\"I don't know\"** --\n",
    "- something that not many contemporary AI algorithms and machine-learned classifiers do;\n",
    "- often leading to problems with \"adversarial examples\" which are doctored to mislead the algorithm. "
   ]
  },
  {
   "cell_type": "markdown",
   "id": "twelve-parts",
   "metadata": {
    "slideshow": {
     "slide_type": "subslide"
    }
   },
   "source": [
    "# In this talk...\n",
    "I will discuss in an accessible way how this arises due to a focus on *discriminative learning*, and how recent research has developed ways to overcome this, "
   ]
  },
  {
   "cell_type": "markdown",
   "id": "complicated-priest",
   "metadata": {
    "slideshow": {
     "slide_type": "fragment"
    }
   },
   "source": [
    "<img width=50% align=\"right\" src=\"lb.jpg\">\n",
    "\n",
    "allowing AI and machine learning to become more **honest and aware of their own limitations**.  "
   ]
  },
  {
   "cell_type": "code",
   "execution_count": 2,
   "id": "democratic-popularity",
   "metadata": {
    "slideshow": {
     "slide_type": "skip"
    }
   },
   "outputs": [],
   "source": [
    "from utils import AIUKSlides\n",
    "bristol_center = (51.4545, -2.5879)\n",
    "\n",
    "slides = AIUKSlides(local_center=bristol_center, isolines=[.0, .2, .4, .6, .8, 1.0],\n",
    "                    width='600px', height='400px', grid_density=500)"
   ]
  },
  {
   "cell_type": "markdown",
   "id": "modified-estonia",
   "metadata": {
    "slideshow": {
     "slide_type": "slide"
    }
   },
   "source": [
    "<img height=80% align=\"center\" src=\"PedroBandero.png\" alt=\"credit: TODO\">"
   ]
  },
  {
   "cell_type": "markdown",
   "id": "induced-jason",
   "metadata": {
    "slideshow": {
     "slide_type": "subslide"
    }
   },
   "source": [
    "# Some recent COVID-19 data"
   ]
  },
  {
   "cell_type": "code",
   "execution_count": 3,
   "id": "lucky-humidity",
   "metadata": {
    "scrolled": false,
    "slideshow": {
     "slide_type": "-"
    }
   },
   "outputs": [
    {
     "data": {
      "application/vnd.jupyter.widget-view+json": {
       "model_id": "d524e928d8934b43859f04f072d9b520",
       "version_major": 2,
       "version_minor": 0
      },
      "text/plain": [
       "Map(center=[53, -2], controls=(ZoomControl(options=['position', 'zoom_in_text', 'zoom_in_title', 'zoom_out_tex…"
      ]
     },
     "metadata": {},
     "output_type": "display_data"
    }
   ],
   "source": [
    "display(slides.map_covid_uk())"
   ]
  },
  {
   "cell_type": "markdown",
   "id": "greenhouse-spyware",
   "metadata": {
    "slideshow": {
     "slide_type": "-"
    }
   },
   "source": [
    "Case numbers going up/down in <span style=\"color:red\">red</span>/<span style=\"color:blue\">blue</span>."
   ]
  },
  {
   "cell_type": "markdown",
   "id": "transparent-premises",
   "metadata": {
    "slideshow": {
     "slide_type": "subslide"
    }
   },
   "source": [
    "# Zooming in on Bristol"
   ]
  },
  {
   "cell_type": "code",
   "execution_count": 4,
   "id": "assisted-cutting",
   "metadata": {
    "slideshow": {
     "slide_type": "-"
    }
   },
   "outputs": [
    {
     "data": {
      "application/vnd.jupyter.widget-view+json": {
       "model_id": "0658fb87d6c04ad29a8638bf01caa2b2",
       "version_major": 2,
       "version_minor": 0
      },
      "text/plain": [
       "Map(center=[51.4545, -2.5879], controls=(ZoomControl(options=['position', 'zoom_in_text', 'zoom_in_title', 'zo…"
      ]
     },
     "metadata": {},
     "output_type": "display_data"
    }
   ],
   "source": [
    "display(slides.map_covid_local())"
   ]
  },
  {
   "cell_type": "code",
   "execution_count": 5,
   "id": "little-credits",
   "metadata": {
    "slideshow": {
     "slide_type": "skip"
    }
   },
   "outputs": [],
   "source": [
    "from utils import KDE\n",
    "clf = KDE(bandwidth=0.005)\n",
    "\n",
    "slides.train_local_classifier(clf)\n",
    "slides.train_local_foreground()"
   ]
  },
  {
   "cell_type": "markdown",
   "id": "permanent-belfast",
   "metadata": {
    "slideshow": {
     "slide_type": "subslide"
    }
   },
   "source": [
    "# AI can distinguish between up/down areas"
   ]
  },
  {
   "cell_type": "code",
   "execution_count": 6,
   "id": "communist-sucking",
   "metadata": {
    "scrolled": false
   },
   "outputs": [
    {
     "data": {
      "application/vnd.jupyter.widget-view+json": {
       "model_id": "3c062c2e763e4301b7899d55276fe503",
       "version_major": 2,
       "version_minor": 0
      },
      "text/plain": [
       "Map(center=[51.4545, -2.5879], controls=(ZoomControl(options=['position', 'zoom_in_text', 'zoom_in_title', 'zo…"
      ]
     },
     "metadata": {},
     "output_type": "display_data"
    }
   ],
   "source": [
    "display(slides.map_local_classifier_foreground())"
   ]
  },
  {
   "cell_type": "markdown",
   "id": "agreed-height",
   "metadata": {
    "slideshow": {
     "slide_type": "subslide"
    }
   },
   "source": [
    "# What actually happens with discriminative models"
   ]
  },
  {
   "cell_type": "code",
   "execution_count": 7,
   "id": "animal-accuracy",
   "metadata": {
    "scrolled": false
   },
   "outputs": [
    {
     "data": {
      "application/vnd.jupyter.widget-view+json": {
       "model_id": "ab6444a94cba477da9889a83e05a7460",
       "version_major": 2,
       "version_minor": 0
      },
      "text/plain": [
       "Map(center=[51.4545, -2.5879], controls=(ZoomControl(options=['position', 'zoom_in_text', 'zoom_in_title', 'zo…"
      ]
     },
     "metadata": {},
     "output_type": "display_data"
    }
   ],
   "source": [
    "display(slides.map_local_classifier(fillopacity=0.4, lineopacity=1.0))"
   ]
  },
  {
   "cell_type": "markdown",
   "id": "atomic-significance",
   "metadata": {
    "slideshow": {
     "slide_type": "subslide"
    }
   },
   "source": [
    "# Different model, similar issue"
   ]
  },
  {
   "cell_type": "code",
   "execution_count": 8,
   "id": "correct-murray",
   "metadata": {
    "scrolled": false
   },
   "outputs": [
    {
     "data": {
      "application/vnd.jupyter.widget-view+json": {
       "model_id": "dfb2015b2a134e66ad8b52a71677a5be",
       "version_major": 2,
       "version_minor": 0
      },
      "text/plain": [
       "Map(center=[51.4545, -2.5879], controls=(ZoomControl(options=['position', 'zoom_in_text', 'zoom_in_title', 'zo…"
      ]
     },
     "metadata": {},
     "output_type": "display_data"
    }
   ],
   "source": [
    "from sklearn.ensemble import RandomForestClassifier\n",
    "clf2 = RandomForestClassifier()\n",
    "slides.train_local_classifier(clf2)\n",
    "display(slides.map_local_classifier(fillopacity=0.4, lineopacity=1.0))"
   ]
  },
  {
   "cell_type": "markdown",
   "id": "innovative-browse",
   "metadata": {
    "slideshow": {
     "slide_type": "slide"
    }
   },
   "source": [
    "# What are discriminative$^\\dagger$ models?\n",
    "\n",
    "These are classifiers that learn to separate classes\n",
    "- cats vs dogs, spam vs ham, COVID-19 cases going up or down, ...\n",
    "\n",
    "by identifying distinguishing characteristics in the training data. \n",
    "\n",
    "<img width=40% align=\"right\" src=\"spam-filter.png\" alt=\"credit: https://appliedmachinelearning.blog/2017/01/23/email-spam-filter-python-scikit-learn/\">"
   ]
  },
  {
   "cell_type": "markdown",
   "id": "happy-hungarian",
   "metadata": {
    "slideshow": {
     "slide_type": "fragment"
    }
   },
   "source": [
    "$^\\dagger$Not to be confused with *discriminatory*..."
   ]
  },
  {
   "cell_type": "markdown",
   "id": "superior-philadelphia",
   "metadata": {
    "slideshow": {
     "slide_type": "subslide"
    }
   },
   "source": [
    "# How else would you do that?\n",
    "\n",
    "**Generative** models additionally learn what *typical* cats, dogs, etc. look like. \n",
    "\n",
    "This allows the model to recognise that a new \"query\" looks very different from data used to train the model. \n",
    "\n",
    "<img width=25% align=\"right\" src=\"atchoum.png\" alt=\"credit: https://www.atchoumthecat.com\">"
   ]
  },
  {
   "cell_type": "markdown",
   "id": "integral-allah",
   "metadata": {
    "slideshow": {
     "slide_type": "subslide"
    }
   },
   "source": [
    "In the COVID-19 example we see that a discriminative model has no problem making confident -- but unjustified -- predictions in areas without training data. "
   ]
  },
  {
   "cell_type": "code",
   "execution_count": 9,
   "id": "disciplinary-transportation",
   "metadata": {
    "slideshow": {
     "slide_type": "-"
    }
   },
   "outputs": [
    {
     "data": {
      "application/vnd.jupyter.widget-view+json": {
       "model_id": "b6c2a200d7f34db98a1dcd0b771fcc23",
       "version_major": 2,
       "version_minor": 0
      },
      "text/plain": [
       "Map(center=[51.4545, -2.5879], controls=(ZoomControl(options=['position', 'zoom_in_text', 'zoom_in_title', 'zo…"
      ]
     },
     "metadata": {},
     "output_type": "display_data"
    }
   ],
   "source": [
    "display(slides.map_local_classifier(fillopacity=0.4, lineopacity=1.0))"
   ]
  },
  {
   "cell_type": "markdown",
   "id": "leading-manchester",
   "metadata": {
    "slideshow": {
     "slide_type": "fragment"
    }
   },
   "source": [
    "The issue is that a learned model usually operates without direct access to the data used to train it, and so has no way of knowing when it ventures out of its \"comfort zone\". "
   ]
  },
  {
   "attachments": {},
   "cell_type": "markdown",
   "id": "communist-programmer",
   "metadata": {
    "slideshow": {
     "slide_type": "subslide"
    }
   },
   "source": [
    "Luckily there are techniques for identifying a model's \"comfort zone\": one such technique called [`Background Check`](https://reframe.github.io/background_check/) works by introducing an additional \"background class\" during training. \n",
    "\n",
    "<img height=80% align=\"right\" src=\"BC.png\" alt=\"credit: https://reframe.github.io/background_check/\">"
   ]
  },
  {
   "cell_type": "markdown",
   "id": "religious-richmond",
   "metadata": {
    "slideshow": {
     "slide_type": "subslide"
    }
   },
   "source": [
    "This was in fact the technique used previously, showing only the \"foreground\" classes. "
   ]
  },
  {
   "cell_type": "code",
   "execution_count": 10,
   "id": "recognized-visibility",
   "metadata": {
    "scrolled": false,
    "slideshow": {
     "slide_type": "-"
    }
   },
   "outputs": [
    {
     "data": {
      "application/vnd.jupyter.widget-view+json": {
       "model_id": "602ffd5b715b47a59c7b7962b00b8c7a",
       "version_major": 2,
       "version_minor": 0
      },
      "text/plain": [
       "Map(center=[51.4545, -2.5879], controls=(ZoomControl(options=['position', 'zoom_in_text', 'zoom_in_title', 'zo…"
      ]
     },
     "metadata": {},
     "output_type": "display_data"
    }
   ],
   "source": [
    "display(slides.map_local_classifier_foreground())"
   ]
  },
  {
   "cell_type": "markdown",
   "id": "isolated-generic",
   "metadata": {
    "slideshow": {
     "slide_type": "slide"
    }
   },
   "source": [
    "# Why does this matter?"
   ]
  },
  {
   "cell_type": "code",
   "execution_count": null,
   "id": "continent-sussex",
   "metadata": {},
   "outputs": [],
   "source": []
  }
 ],
 "metadata": {
  "celltoolbar": "Slideshow",
  "kernelspec": {
   "display_name": "Python 3",
   "language": "python",
   "name": "python3"
  },
  "language_info": {
   "codemirror_mode": {
    "name": "ipython",
    "version": 3
   },
   "file_extension": ".py",
   "mimetype": "text/x-python",
   "name": "python",
   "nbconvert_exporter": "python",
   "pygments_lexer": "ipython3",
   "version": "3.8.8"
  },
  "rise": {
   "minScale": 1.25,
   "transition": "none",
   "width": "80%"
  }
 },
 "nbformat": 4,
 "nbformat_minor": 5
}
