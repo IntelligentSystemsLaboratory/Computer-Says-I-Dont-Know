{
 "cells": [
  {
   "cell_type": "markdown",
   "id": "dated-singles",
   "metadata": {
    "slideshow": {
     "slide_type": "slide"
    }
   },
   "source": [
    "# Title\n",
    "## Subtitle\n",
    "\n",
    "Author name"
   ]
  },
  {
   "cell_type": "markdown",
   "id": "greater-seating",
   "metadata": {
    "slideshow": {
     "slide_type": "slide"
    }
   },
   "source": [
    "# First slide\n",
    "\n",
    "Content of the first slide"
   ]
  },
  {
   "cell_type": "code",
   "execution_count": 1,
   "id": "going-phenomenon",
   "metadata": {
    "slideshow": {
     "slide_type": "skip"
    }
   },
   "outputs": [],
   "source": [
    "from ipyleaflet import Map, Marker"
   ]
  },
  {
   "cell_type": "code",
   "execution_count": 2,
   "id": "thick-agenda",
   "metadata": {
    "slideshow": {
     "slide_type": "slide"
    }
   },
   "outputs": [
    {
     "data": {
      "application/vnd.jupyter.widget-view+json": {
       "model_id": "a9f4d4afbdd546c1b573582c7ab7f0be",
       "version_major": 2,
       "version_minor": 0
      },
      "text/plain": [
       "Map(center=[52.204793, 360.121558], controls=(ZoomControl(options=['position', 'zoom_in_text', 'zoom_in_title'…"
      ]
     },
     "metadata": {},
     "output_type": "display_data"
    }
   ],
   "source": [
    "center = (52.204793, 360.121558)\n",
    "m = Map(center=center, zoom=15)\n",
    "#m.layout.width = '700px'\n",
    "#m.layout.height = '400px'\n",
    "display(m)"
   ]
  },
  {
   "cell_type": "code",
   "execution_count": 3,
   "id": "economic-manual",
   "metadata": {
    "slideshow": {
     "slide_type": "subslide"
    }
   },
   "outputs": [
    {
     "data": {
      "application/vnd.jupyter.widget-view+json": {
       "model_id": "a9f4d4afbdd546c1b573582c7ab7f0be",
       "version_major": 2,
       "version_minor": 0
      },
      "text/plain": [
       "Map(center=[52.204793, 360.121558], controls=(ZoomControl(options=['position', 'zoom_in_text', 'zoom_in_title'…"
      ]
     },
     "metadata": {},
     "output_type": "display_data"
    }
   ],
   "source": [
    "display(m)"
   ]
  },
  {
   "cell_type": "code",
   "execution_count": null,
   "id": "apparent-mineral",
   "metadata": {},
   "outputs": [],
   "source": []
  }
 ],
 "metadata": {
  "celltoolbar": "Slideshow",
  "kernelspec": {
   "display_name": "Python 3",
   "language": "python",
   "name": "python3"
  },
  "language_info": {
   "codemirror_mode": {
    "name": "ipython",
    "version": 3
   },
   "file_extension": ".py",
   "mimetype": "text/x-python",
   "name": "python",
   "nbconvert_exporter": "python",
   "pygments_lexer": "ipython3",
   "version": "3.8.5"
  }
 },
 "nbformat": 4,
 "nbformat_minor": 5
}
