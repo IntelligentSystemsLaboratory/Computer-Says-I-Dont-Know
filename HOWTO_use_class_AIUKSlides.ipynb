{
 "cells": [
  {
   "cell_type": "code",
   "execution_count": 1,
   "id": "aquatic-ukraine",
   "metadata": {
    "slideshow": {
     "slide_type": "skip"
    }
   },
   "outputs": [],
   "source": [
    "# Setup Reveal.JS\n",
    "from traitlets.config.manager import BaseJSONConfigManager\n",
    "from pathlib import Path\n",
    "path = Path.home() / \".jupyter\" / \"nbconfig\"\n",
    "cm = BaseJSONConfigManager(config_dir=str(path))\n",
    "# ipyleaflet hack to load full map in Reveal.js\n",
    "# These settings are also injected into the notebook metadata\n",
    "# (Edit -> Edit Notebook Metadata), which is the preferred method\n",
    "cm.update(\n",
    "    \"rise\",\n",
    "    {\"minScale\": 1.25,\n",
    "     \"width\": \"80%\",\n",
    "     \"transition\": \"none\"}\n",
    ")\n",
    "\n",
    "import numpy as np\n",
    "np.random.seed(42)"
   ]
  },
  {
   "cell_type": "markdown",
   "id": "collectible-diesel",
   "metadata": {},
   "source": [
    "# Instantiate the AIUKSlides class\n",
    "\n",
    "With some default parameters that will be used in all the figures. The instantiation already loads the datapoints and creates the gridpoints that will be used in later stages."
   ]
  },
  {
   "cell_type": "code",
   "execution_count": 2,
   "id": "violent-iraqi",
   "metadata": {},
   "outputs": [],
   "source": [
    "from utils import AIUKSlides\n",
    "bristol_center = (51.4545, -2.5879)\n",
    "\n",
    "slides = AIUKSlides(local_center=bristol_center, isolines=[.0, .2, .4, .6, .8, 1.0],\n",
    "                    width='600px', height='400px', grid_density=500)"
   ]
  },
  {
   "cell_type": "markdown",
   "id": "outstanding-cursor",
   "metadata": {},
   "source": [
    "# Check available parameters\n",
    "\n",
    "Most of the functions have optional parameters, it is possible to check with the command help"
   ]
  },
  {
   "cell_type": "code",
   "execution_count": 3,
   "id": "unlikely-pulse",
   "metadata": {},
   "outputs": [
    {
     "name": "stdout",
     "output_type": "stream",
     "text": [
      "Help on class AIUKSlides in module utils:\n",
      "\n",
      "class AIUKSlides(builtins.object)\n",
      " |  AIUKSlides(local_center=(51.4545, -2.5879), width='600px', height='400px', isolines=[0.0, 0.2, 0.4, 0.6, 0.8, 1.0], grid_density=500)\n",
      " |  \n",
      " |  Methods defined here:\n",
      " |  \n",
      " |  __init__(self, local_center=(51.4545, -2.5879), width='600px', height='400px', isolines=[0.0, 0.2, 0.4, 0.6, 0.8, 1.0], grid_density=500)\n",
      " |      Initialize self.  See help(type(self)) for accurate signature.\n",
      " |  \n",
      " |  map_covid_local(self, width=None, height=None)\n",
      " |  \n",
      " |  map_covid_uk(self, width=None, height=None)\n",
      " |  \n",
      " |  map_local_classifier(self, zoom=11, fillopacity=0.5, lineopacity=0.5, isolines=None, width=None, height=None)\n",
      " |  \n",
      " |  map_local_classifier_foreground(self, zoom=11, fillopacity=0.5, lineopacity=0.5, isolines=None, width=None, height=None)\n",
      " |  \n",
      " |  train_local_classifier(self, clf)\n",
      " |  \n",
      " |  train_local_foreground(self)\n",
      " |      TODO: Use only background check with priors\n",
      " |  \n",
      " |  ----------------------------------------------------------------------\n",
      " |  Data descriptors defined here:\n",
      " |  \n",
      " |  __dict__\n",
      " |      dictionary for instance variables (if defined)\n",
      " |  \n",
      " |  __weakref__\n",
      " |      list of weak references to the object (if defined)\n",
      "\n"
     ]
    }
   ],
   "source": [
    "help(AIUKSlides)"
   ]
  },
  {
   "cell_type": "code",
   "execution_count": 4,
   "id": "actual-lender",
   "metadata": {},
   "outputs": [
    {
     "name": "stdout",
     "output_type": "stream",
     "text": [
      "Help on method map_covid_uk in module utils:\n",
      "\n",
      "map_covid_uk(width=None, height=None) method of utils.AIUKSlides instance\n",
      "\n"
     ]
    }
   ],
   "source": [
    "help(slides.map_covid_uk)"
   ]
  },
  {
   "cell_type": "markdown",
   "id": "induced-jason",
   "metadata": {
    "slideshow": {
     "slide_type": "subslide"
    }
   },
   "source": [
    "# UK map with up/down Covid data here"
   ]
  },
  {
   "cell_type": "code",
   "execution_count": 5,
   "id": "former-notice",
   "metadata": {
    "slideshow": {
     "slide_type": "subslide"
    }
   },
   "outputs": [
    {
     "data": {
      "application/vnd.jupyter.widget-view+json": {
       "model_id": "aa6c97ec4e944e78976f58fc0c525de1",
       "version_major": 2,
       "version_minor": 0
      },
      "text/plain": [
       "Map(center=[53, -2], controls=(ZoomControl(options=['position', 'zoom_in_text', 'zoom_in_title', 'zoom_out_tex…"
      ]
     },
     "metadata": {},
     "output_type": "display_data"
    }
   ],
   "source": [
    "display(slides.map_covid_uk())"
   ]
  },
  {
   "cell_type": "markdown",
   "id": "transparent-premises",
   "metadata": {
    "slideshow": {
     "slide_type": "subslide"
    }
   },
   "source": [
    "# Local map with up/down Covid data here"
   ]
  },
  {
   "cell_type": "code",
   "execution_count": 6,
   "id": "incomplete-giant",
   "metadata": {
    "slideshow": {
     "slide_type": "subslide"
    }
   },
   "outputs": [
    {
     "data": {
      "application/vnd.jupyter.widget-view+json": {
       "model_id": "0bc591435c9c4711aaa18f7edc79bfa3",
       "version_major": 2,
       "version_minor": 0
      },
      "text/plain": [
       "Map(center=[51.4545, -2.5879], controls=(ZoomControl(options=['position', 'zoom_in_text', 'zoom_in_title', 'zo…"
      ]
     },
     "metadata": {},
     "output_type": "display_data"
    }
   ],
   "source": [
    "display(slides.map_covid_local())"
   ]
  },
  {
   "cell_type": "markdown",
   "id": "japanese-prague",
   "metadata": {},
   "source": [
    "# Training models\n",
    "\n",
    "You can instantiate any probabilistic classifier from scikit-learn to be trained inside the AIUKSlides instance.\n",
    "You need to call functions to train the classifier and the foreground model."
   ]
  },
  {
   "cell_type": "code",
   "execution_count": 7,
   "id": "judicial-framework",
   "metadata": {},
   "outputs": [],
   "source": [
    "#from sklearn.neighbors import KNeighborsClassifier\n",
    "#clf = KNeighborsClassifier(n_neighbors=3)\n",
    "\n",
    "from utils import KDE\n",
    "clf = KDE(bandwidth=0.005)\n",
    "\n",
    "slides.train_local_classifier(clf)\n",
    "slides.train_local_foreground()"
   ]
  },
  {
   "cell_type": "markdown",
   "id": "qualified-overall",
   "metadata": {},
   "source": [
    "# Local map with up/down & FG predictions"
   ]
  },
  {
   "cell_type": "code",
   "execution_count": 8,
   "id": "olive-springfield",
   "metadata": {},
   "outputs": [
    {
     "data": {
      "application/vnd.jupyter.widget-view+json": {
       "model_id": "da75585cec0c485d9cb7c842c4342cc8",
       "version_major": 2,
       "version_minor": 0
      },
      "text/plain": [
       "Map(center=[51.4545, -2.5879], controls=(ZoomControl(options=['position', 'zoom_in_text', 'zoom_in_title', 'zo…"
      ]
     },
     "metadata": {},
     "output_type": "display_data"
    }
   ],
   "source": [
    "display(slides.map_local_classifier_foreground())"
   ]
  },
  {
   "cell_type": "markdown",
   "id": "utility-knitting",
   "metadata": {},
   "source": [
    "# Local map with up/down predictions"
   ]
  },
  {
   "cell_type": "code",
   "execution_count": 9,
   "id": "inside-compensation",
   "metadata": {
    "scrolled": true
   },
   "outputs": [
    {
     "data": {
      "application/vnd.jupyter.widget-view+json": {
       "model_id": "",
       "version_major": 2,
       "version_minor": 0
      },
      "text/plain": [
       "Map(center=[51.4545, -2.5879], controls=(ZoomControl(options=['position', 'zoom_in_text', 'zoom_in_title', 'zo…"
      ]
     },
     "metadata": {},
     "output_type": "display_data"
    }
   ],
   "source": [
    "display(slides.map_local_classifier(fillopacity=0.4, lineopacity=1.0))"
   ]
  }
 ],
 "metadata": {
  "celltoolbar": "Slideshow",
  "kernelspec": {
   "display_name": "Python 3",
   "language": "python",
   "name": "python3"
  },
  "language_info": {
   "codemirror_mode": {
    "name": "ipython",
    "version": 3
   },
   "file_extension": ".py",
   "mimetype": "text/x-python",
   "name": "python",
   "nbconvert_exporter": "python",
   "pygments_lexer": "ipython3",
   "version": "3.8.8"
  },
  "rise": {
   "minScale": 1.25,
   "transition": "none",
   "width": "80%"
  }
 },
 "nbformat": 4,
 "nbformat_minor": 5
}
