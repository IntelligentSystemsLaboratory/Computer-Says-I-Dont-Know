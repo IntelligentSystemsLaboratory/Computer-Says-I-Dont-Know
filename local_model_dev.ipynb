{
 "cells": [
  {
   "cell_type": "code",
   "execution_count": 1,
   "id": "considered-clock",
   "metadata": {},
   "outputs": [],
   "source": [
    "import numpy\n",
    "from joblib import dump, load\n",
    "import scipy.stats\n",
    "import matplotlib.pyplot\n",
    "%matplotlib inline"
   ]
  },
  {
   "cell_type": "code",
   "execution_count": 2,
   "id": "norman-blond",
   "metadata": {},
   "outputs": [
    {
     "ename": "FileNotFoundError",
     "evalue": "[Errno 2] No such file or directory: './data/x.npy'",
     "output_type": "error",
     "traceback": [
      "\u001b[1;31m---------------------------------------------------------------------------\u001b[0m",
      "\u001b[1;31mFileNotFoundError\u001b[0m                         Traceback (most recent call last)",
      "\u001b[1;32m<ipython-input-2-7bd86032d910>\u001b[0m in \u001b[0;36m<module>\u001b[1;34m\u001b[0m\n\u001b[1;32m----> 1\u001b[1;33m \u001b[0mx\u001b[0m \u001b[1;33m=\u001b[0m \u001b[0mnumpy\u001b[0m\u001b[1;33m.\u001b[0m\u001b[0mload\u001b[0m\u001b[1;33m(\u001b[0m\u001b[1;34m'./data/x.npy'\u001b[0m\u001b[1;33m)\u001b[0m\u001b[1;33m\u001b[0m\u001b[1;33m\u001b[0m\u001b[0m\n\u001b[0m\u001b[0;32m      2\u001b[0m \u001b[0my\u001b[0m \u001b[1;33m=\u001b[0m \u001b[0mnumpy\u001b[0m\u001b[1;33m.\u001b[0m\u001b[0mload\u001b[0m\u001b[1;33m(\u001b[0m\u001b[1;34m'./data/y.npy'\u001b[0m\u001b[1;33m)\u001b[0m\u001b[1;33m\u001b[0m\u001b[1;33m\u001b[0m\u001b[0m\n",
      "\u001b[1;32m~\\miniconda3\\envs\\tf_py37\\lib\\site-packages\\numpy\\lib\\npyio.py\u001b[0m in \u001b[0;36mload\u001b[1;34m(file, mmap_mode, allow_pickle, fix_imports, encoding)\u001b[0m\n\u001b[0;32m    414\u001b[0m             \u001b[0mown_fid\u001b[0m \u001b[1;33m=\u001b[0m \u001b[1;32mFalse\u001b[0m\u001b[1;33m\u001b[0m\u001b[1;33m\u001b[0m\u001b[0m\n\u001b[0;32m    415\u001b[0m         \u001b[1;32melse\u001b[0m\u001b[1;33m:\u001b[0m\u001b[1;33m\u001b[0m\u001b[1;33m\u001b[0m\u001b[0m\n\u001b[1;32m--> 416\u001b[1;33m             \u001b[0mfid\u001b[0m \u001b[1;33m=\u001b[0m \u001b[0mstack\u001b[0m\u001b[1;33m.\u001b[0m\u001b[0menter_context\u001b[0m\u001b[1;33m(\u001b[0m\u001b[0mopen\u001b[0m\u001b[1;33m(\u001b[0m\u001b[0mos_fspath\u001b[0m\u001b[1;33m(\u001b[0m\u001b[0mfile\u001b[0m\u001b[1;33m)\u001b[0m\u001b[1;33m,\u001b[0m \u001b[1;34m\"rb\"\u001b[0m\u001b[1;33m)\u001b[0m\u001b[1;33m)\u001b[0m\u001b[1;33m\u001b[0m\u001b[1;33m\u001b[0m\u001b[0m\n\u001b[0m\u001b[0;32m    417\u001b[0m             \u001b[0mown_fid\u001b[0m \u001b[1;33m=\u001b[0m \u001b[1;32mTrue\u001b[0m\u001b[1;33m\u001b[0m\u001b[1;33m\u001b[0m\u001b[0m\n\u001b[0;32m    418\u001b[0m \u001b[1;33m\u001b[0m\u001b[0m\n",
      "\u001b[1;31mFileNotFoundError\u001b[0m: [Errno 2] No such file or directory: './data/x.npy'"
     ]
    }
   ],
   "source": [
    "x = numpy.load('./data/x.npy')\n",
    "y = numpy.load('./data/y.npy')"
   ]
  },
  {
   "cell_type": "code",
   "execution_count": null,
   "id": "collaborative-roller",
   "metadata": {},
   "outputs": [],
   "source": [
    "matplotlib.pyplot.figure(dpi=128, figsize=(3, 3))\n",
    "matplotlib.pyplot.plot(x[y==1, 1], x[y==1, 0], 'ro', markersize=0.1)\n",
    "matplotlib.pyplot.plot(x[y==0, 1], x[y==0, 0], 'bo', markersize=0.1)\n",
    "matplotlib.pyplot.grid()\n",
    "matplotlib.pyplot.xlim([-6, 2])\n",
    "matplotlib.pyplot.ylim([50, 58])"
   ]
  },
  {
   "cell_type": "code",
   "execution_count": null,
   "id": "controlled-mirror",
   "metadata": {},
   "outputs": [],
   "source": [
    "y_all_grid = numpy.linspace(-6, 2, 1024)\n",
    "x_all_grid = numpy.linspace(50, 58, 1024)\n",
    "xx_all, yy_all = numpy.meshgrid(x_all_grid, y_all_grid)"
   ]
  },
  {
   "cell_type": "code",
   "execution_count": null,
   "id": "comprehensive-private",
   "metadata": {},
   "outputs": [],
   "source": [
    "tmp_idx = (numpy.sqrt((x[:, 0] - 51.4545) ** 2 + (x[:, 1] + 2.5879) ** 2) <= 0.1)  "
   ]
  },
  {
   "cell_type": "code",
   "execution_count": null,
   "id": "imposed-newport",
   "metadata": {},
   "outputs": [],
   "source": [
    "matplotlib.pyplot.figure(dpi=128, figsize=(3, 3))\n",
    "matplotlib.pyplot.plot(x[(tmp_idx&(y==1)), 1], \n",
    "                       x[(tmp_idx&(y==1)), 0], 'ro', markersize=5.0)\n",
    "matplotlib.pyplot.plot(x[(tmp_idx&(y==0)), 1], \n",
    "                       x[(tmp_idx&(y==0)), 0], 'bo', markersize=5.0)\n",
    "matplotlib.pyplot.grid()\n",
    "matplotlib.pyplot.xlim([-2.7, -2.45])\n",
    "matplotlib.pyplot.ylim([51.3, 51.55])"
   ]
  },
  {
   "cell_type": "code",
   "execution_count": null,
   "id": "entire-bracelet",
   "metadata": {},
   "outputs": [],
   "source": [
    "y_local_grid = numpy.linspace(-2.70, -2.45, 1024)\n",
    "x_local_grid = numpy.linspace(51.3, 51.55, 1024)\n",
    "xx_local, yy_local = numpy.meshgrid(x_local_grid, y_local_grid)"
   ]
  },
  {
   "cell_type": "code",
   "execution_count": null,
   "id": "higher-forwarding",
   "metadata": {},
   "outputs": [],
   "source": [
    "x_local = x[tmp_idx, :]\n",
    "y_local = y[tmp_idx]"
   ]
  },
  {
   "cell_type": "code",
   "execution_count": null,
   "id": "interstate-dealer",
   "metadata": {},
   "outputs": [],
   "source": [
    "from sklearn.svm import SVC\n",
    "from sklearn.linear_model import LogisticRegression\n",
    "from sklearn.neural_network import MLPClassifier\n",
    "from sklearn.model_selection import train_test_split\n",
    "from sklearn.model_selection import StratifiedShuffleSplit\n",
    "from sklearn.model_selection import GridSearchCV"
   ]
  },
  {
   "cell_type": "code",
   "execution_count": null,
   "id": "judicial-wages",
   "metadata": {},
   "outputs": [],
   "source": [
    "# mdl = SVC(probability=True)\n",
    "# mdl.fit(x_local, y_local)\n",
    "# dump(mdl, './local_mdl.joblib')"
   ]
  },
  {
   "cell_type": "code",
   "execution_count": null,
   "id": "organic-desire",
   "metadata": {},
   "outputs": [],
   "source": [
    "mdl = load('./local_mdl.joblib')"
   ]
  },
  {
   "cell_type": "code",
   "execution_count": null,
   "id": "seeing-article",
   "metadata": {},
   "outputs": [],
   "source": [
    "p_local = mdl.predict_proba(numpy.hstack([xx_local.reshape(-1, 1), yy_local.reshape(-1, 1)]))[:, 1].reshape(1024, 1024)"
   ]
  },
  {
   "cell_type": "code",
   "execution_count": null,
   "id": "working-nomination",
   "metadata": {},
   "outputs": [],
   "source": [
    "matplotlib.pyplot.figure(dpi=128, figsize=(3, 3))\n",
    "matplotlib.pyplot.imshow(p_local.transpose(), origin='lower', cmap='magma',\n",
    "                         extent=[-2.70, -2.45, 51.3, 51.55])#, vmin=0, vmax=1)\n",
    "matplotlib.pyplot.plot(x[(tmp_idx&(y==1)), 1], \n",
    "                       x[(tmp_idx&(y==1)), 0], 'ro', markersize=5.0)\n",
    "matplotlib.pyplot.plot(x[(tmp_idx&(y==0)), 1], \n",
    "                       x[(tmp_idx&(y==0)), 0], 'bo', markersize=5.0)\n",
    "matplotlib.pyplot.colorbar()\n",
    "# matplotlib.pyplot.grid()\n",
    "# matplotlib.pyplot.xlim([-2.7, -2.45])\n",
    "# matplotlib.pyplot.ylim([51.3, 51.55])"
   ]
  },
  {
   "cell_type": "code",
   "execution_count": null,
   "id": "excellent-vancouver",
   "metadata": {},
   "outputs": [],
   "source": [
    "p_all = mdl.predict_proba(numpy.hstack([xx_all.reshape(-1, 1), yy_all.reshape(-1, 1)]))[:, 1].reshape(1024, 1024)"
   ]
  },
  {
   "cell_type": "code",
   "execution_count": null,
   "id": "concerned-surname",
   "metadata": {},
   "outputs": [],
   "source": [
    "matplotlib.pyplot.figure(dpi=128, figsize=(3, 3))\n",
    "matplotlib.pyplot.imshow(p_all.transpose(), origin='lower', cmap='magma',\n",
    "                         extent=[-6, 2, 50, 58])#, vmin=0, vmax=1)\n",
    "matplotlib.pyplot.plot(x[y==1, 1], x[y==1, 0], 'ro', markersize=0.1)\n",
    "matplotlib.pyplot.plot(x[y==0, 1], x[y==0, 0], 'bo', markersize=0.1)\n",
    "matplotlib.pyplot.xlim([-6, 2])\n",
    "matplotlib.pyplot.ylim([50, 58])\n",
    "matplotlib.pyplot.colorbar()"
   ]
  },
  {
   "cell_type": "code",
   "execution_count": null,
   "id": "restricted-chocolate",
   "metadata": {},
   "outputs": [],
   "source": []
  }
 ],
 "metadata": {
  "kernelspec": {
   "display_name": "Python 3",
   "language": "python",
   "name": "python3"
  },
  "language_info": {
   "codemirror_mode": {
    "name": "ipython",
    "version": 3
   },
   "file_extension": ".py",
   "mimetype": "text/x-python",
   "name": "python",
   "nbconvert_exporter": "python",
   "pygments_lexer": "ipython3",
   "version": "3.7.9"
  }
 },
 "nbformat": 4,
 "nbformat_minor": 5
}
